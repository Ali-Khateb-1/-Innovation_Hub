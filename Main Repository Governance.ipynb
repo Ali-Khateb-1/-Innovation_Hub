{
 "cells": [
  {
   "cell_type": "markdown",
   "id": "9358fd06",
   "metadata": {},
   "source": [
    "🔹 Quick Description – \"Main Repository Governance\"\n",
    "Main Repository Governance serves as the primary administrative framework for managing the main repository. It establishes guidelines, policies, and control strategies to ensure sustainable development and adherence to quality standards.\n"
   ]
  },
  {
   "cell_type": "markdown",
   "id": "e5e7827c",
   "metadata": {},
   "source": [
    " Jupyter Notebook\n",
    "Main Repository Governance\n",
    "Last Checkpoint: 4 minutes ago\n",
    "(unsaved changes)\n",
    "Current Kernel Logo\n",
    "Python 3 (ipykernel) \n",
    "File\n",
    "Edit\n",
    "View\n",
    "Insert\n",
    "Cell\n",
    "Kernel\n",
    "Help\n",
    "\n",
    "Code\n",
    "🔹 Quick Description – \"Main Repository Governance\" Main Repository Governance serves as the primary administrative framework for managing the main repository. It establishes guidelines, policies, and control strategies to ensure sustainable development and adherence to quality standards.\n",
    "\n",
    "Main Repository Governance is the central reference for managing the main repository, defining control mechanisms, workflow structures, and contribution guidelines to ensure continuity and best practices. This document includes:\n",
    "\n",
    "Project structure and branch roles to maintain clear organization.\n",
    "Contribution and review policies to uphold quality and compliance.\n",
    "Synchronization and update strategies to keep the repository stable.\n",
    "Variable and environment management to optimize operational efficiency across different systems.\n",
    "​\n",
    "​\n"
   ]
  },
  {
   "cell_type": "code",
   "execution_count": 32,
   "id": "82a104b7",
   "metadata": {},
   "outputs": [
    {
     "name": "stdout",
     "output_type": "stream",
     "text": [
      "To https://github.com/Ali-Khateb-1/-Innovation_Hub.git\r\n",
      " \u001b[31m! [rejected]       \u001b[m main -> main (non-fast-forward)\r\n",
      "\u001b[31merror: failed to push some refs to 'https://github.com/Ali-Khateb-1/-Innovation_Hub.git'\r\n",
      "\u001b[m\u001b[33mhint: Updates were rejected because a pushed branch tip is behind its remote\u001b[m\r\n",
      "\u001b[33mhint: counterpart. If you want to integrate the remote changes, use 'git pull'\u001b[m\r\n",
      "\u001b[33mhint: before pushing again.\u001b[m\r\n",
      "\u001b[33mhint: See the 'Note about fast-forwards' in 'git push --help' for details.\u001b[m\r\n"
     ]
    }
   ],
   "source": [
    "!git -C /mnt/c/Users/ali/Desktop/Innovation_Hub_New push origin main"
   ]
  },
  {
   "cell_type": "code",
   "execution_count": 33,
   "id": "ac515988",
   "metadata": {},
   "outputs": [
    {
     "name": "stdout",
     "output_type": "stream",
     "text": [
      "\u001b[1B\u001b[m\u001b[7m18\u001b[m \u001b[36m#\u001b[m   \u001b[36mnew file:   Main Repository Governance.ipynb\u001b[2;4H\u001b[m\u001b[m\u001b[22;12H\u001b[7m[ line  1/25 ( 4%), col  1/29 (  3%), char   0/947 ( 0%) ]\u001b[m\u001b[22;12H                 \u001b[7m[ Justified paragraph ]\u001b[m\u001b[K\u001b[1;69H\u001b[7m*\u001b[9C\u001b[m\u001b[3;4HMIT_EDITMSG          S  \u001b[1;79H\u001b[m"
     ]
    }
   ],
   "source": [
    "!git -C /mnt/c/Users/ali/Desktop/Innovation_Hub_New add README.md\n",
    "!git -C /mnt/c/Users/ali/Desktop/Innovation_Hub_New rebase --continue"
   ]
  },
  {
   "cell_type": "code",
   "execution_count": 34,
   "id": "e47544c2",
   "metadata": {},
   "outputs": [
    {
     "name": "stdout",
     "output_type": "stream",
     "text": [
      "\u001b[31minteractive rebase in progress; onto \u001b[mf378cb8\r\n",
      "Last command done (1 command done):\r\n",
      "   pick 63b98ab Initial commit for submodule\r\n",
      "Next commands to do (4 remaining commands):\r\n",
      "   pick 79c4ee8 Adding README to submodule\r\n",
      "   pick 1210893 Added submodule Classification_of_flower_structure_TM1\r\n",
      "  (use \"git rebase --edit-todo\" to view and edit)\r\n",
      "You are currently rebasing branch 'main' on 'f378cb8'.\r\n",
      "  (all conflicts fixed: run \"git rebase --continue\")\r\n",
      "\r\n",
      "Changes to be committed:\r\n",
      "  (use \"git restore --staged <file>...\" to unstage)\r\n",
      "\t\u001b[32mnew file:   .ipynb_checkpoints/Main Repository Governance-checkpoint.ipynb\u001b[m\r\n",
      "\t\u001b[32mnew file:   Full_Stack_Framework/.ipynb_checkpoints/Full Stack Control Log-checkpoint.ipynb\u001b[m\r\n",
      "\t\u001b[32mnew file:   Full_Stack_Framework/Full Stack Control Log.ipynb\u001b[m\r\n",
      "\t\u001b[32mnew file:   Main Repository Governance.ipynb\u001b[m\r\n",
      "\t\u001b[32mnew file:   desktop.ini\u001b[m\r\n",
      "\t\u001b[32mnew file:   index.html\u001b[m\r\n",
      "\r\n",
      "Changes not staged for commit:\r\n",
      "  (use \"git add <file>...\" to update what will be committed)\r\n",
      "  (use \"git restore <file>...\" to discard changes in working directory)\r\n",
      "\t\u001b[31mmodified:   Main Repository Governance.ipynb\u001b[m\r\n",
      "\r\n",
      "Untracked files:\r\n",
      "  (use \"git add <file>...\" to include in what will be committed)\r\n",
      "\t\u001b[31mClassification of flower structure_TM1/\u001b[m\r\n",
      "\r\n"
     ]
    }
   ],
   "source": [
    "!git -C /mnt/c/Users/ali/Desktop/Innovation_Hub_New status"
   ]
  },
  {
   "cell_type": "code",
   "execution_count": 35,
   "id": "8e7b84ea",
   "metadata": {},
   "outputs": [
    {
     "name": "stdout",
     "output_type": "stream",
     "text": [
      "warning: adding embedded git repository: Classification of flower structure_TM1\r\n",
      "\u001b[33mhint: You've added another git repository inside your current repository.\u001b[m\r\n",
      "\u001b[33mhint: Clones of the outer repository will not contain the contents of\u001b[m\r\n",
      "\u001b[33mhint: the embedded repository and will not know how to obtain it.\u001b[m\r\n",
      "\u001b[33mhint: If you meant to add a submodule, use:\u001b[m\r\n",
      "\u001b[33mhint: \u001b[m\r\n",
      "\u001b[33mhint: \tgit submodule add <url> Classification of flower structure_TM1\u001b[m\r\n",
      "\u001b[33mhint: \u001b[m\r\n",
      "\u001b[33mhint: If you added this path by mistake, you can remove it from the\u001b[m\r\n",
      "\u001b[33mhint: index with:\u001b[m\r\n",
      "\u001b[33mhint: \u001b[m\r\n",
      "\u001b[33mhint: \tgit rm --cached Classification of flower structure_TM1\u001b[m\r\n",
      "\u001b[33mhint: \u001b[m\r\n",
      "\u001b[33mhint: See \"git help submodule\" for more information.\u001b[m\r\n"
     ]
    }
   ],
   "source": [
    "!git -C /mnt/c/Users/ali/Desktop/Innovation_Hub_New add .\n"
   ]
  },
  {
   "cell_type": "code",
   "execution_count": 36,
   "id": "20061c91",
   "metadata": {},
   "outputs": [
    {
     "name": "stdout",
     "output_type": "stream",
     "text": [
      "/bin/bash: line 1: URL: No such file or directory\r\n"
     ]
    }
   ],
   "source": [
    "!git -C /mnt/c/Users/ali/Desktop/Innovation_Hub_New submodule add <URL> Classification\\ of\\ flower\\ structure_TM1\n"
   ]
  },
  {
   "cell_type": "code",
   "execution_count": 37,
   "id": "6a1b7585",
   "metadata": {},
   "outputs": [
    {
     "name": "stdout",
     "output_type": "stream",
     "text": [
      "On branch main\r\n",
      "nothing to commit, working tree clean\r\n"
     ]
    }
   ],
   "source": [
    "!git -C /mnt/c/Users/ali/Desktop/Innovation_Hub_New/Classification\\ of\\ flower\\ structure_TM1 status"
   ]
  },
  {
   "cell_type": "code",
   "execution_count": 38,
   "id": "62251497",
   "metadata": {},
   "outputs": [
    {
     "name": "stdout",
     "output_type": "stream",
     "text": [
      "To https://github.com/Ali-Khateb-1/-Innovation_Hub.git\r\n",
      " \u001b[31m! [rejected]       \u001b[m main -> main (non-fast-forward)\r\n",
      "\u001b[31merror: failed to push some refs to 'https://github.com/Ali-Khateb-1/-Innovation_Hub.git'\r\n",
      "\u001b[m\u001b[33mhint: Updates were rejected because a pushed branch tip is behind its remote\u001b[m\r\n",
      "\u001b[33mhint: counterpart. If you want to integrate the remote changes, use 'git pull'\u001b[m\r\n",
      "\u001b[33mhint: before pushing again.\u001b[m\r\n",
      "\u001b[33mhint: See the 'Note about fast-forwards' in 'git push --help' for details.\u001b[m\r\n"
     ]
    }
   ],
   "source": [
    "!git -C /mnt/c/Users/ali/Desktop/Innovation_Hub_New push origin main"
   ]
  },
  {
   "cell_type": "code",
   "execution_count": 39,
   "id": "5a4143d2",
   "metadata": {},
   "outputs": [
    {
     "name": "stdout",
     "output_type": "stream",
     "text": [
      "error: cannot pull with rebase: You have unstaged changes.\n",
      "error: additionally, your index contains uncommitted changes.\n",
      "error: Please commit or stash them.\n"
     ]
    }
   ],
   "source": [
    "!git -C /mnt/c/Users/ali/Desktop/Innovation_Hub_New pull origin main --rebase"
   ]
  },
  {
   "cell_type": "code",
   "execution_count": 40,
   "id": "aa3a3159",
   "metadata": {},
   "outputs": [
    {
     "name": "stdout",
     "output_type": "stream",
     "text": [
      "\u001b[31minteractive rebase in progress; onto \u001b[mf378cb8\r\n",
      "Last command done (1 command done):\r\n",
      "   pick 63b98ab Initial commit for submodule\r\n",
      "Next commands to do (4 remaining commands):\r\n",
      "   pick 79c4ee8 Adding README to submodule\r\n",
      "   pick 1210893 Added submodule Classification_of_flower_structure_TM1\r\n",
      "  (use \"git rebase --edit-todo\" to view and edit)\r\n",
      "You are currently rebasing branch 'main' on 'f378cb8'.\r\n",
      "  (all conflicts fixed: run \"git rebase --continue\")\r\n",
      "\r\n",
      "Changes to be committed:\r\n",
      "  (use \"git restore --staged <file>...\" to unstage)\r\n",
      "\t\u001b[32mnew file:   .ipynb_checkpoints/Main Repository Governance-checkpoint.ipynb\u001b[m\r\n",
      "\t\u001b[32mnew file:   Classification of flower structure_TM1\u001b[m\r\n",
      "\t\u001b[32mnew file:   Full_Stack_Framework/.ipynb_checkpoints/Full Stack Control Log-checkpoint.ipynb\u001b[m\r\n",
      "\t\u001b[32mnew file:   Full_Stack_Framework/Full Stack Control Log.ipynb\u001b[m\r\n",
      "\t\u001b[32mnew file:   Main Repository Governance.ipynb\u001b[m\r\n",
      "\t\u001b[32mnew file:   desktop.ini\u001b[m\r\n",
      "\t\u001b[32mnew file:   index.html\u001b[m\r\n",
      "\r\n",
      "Changes not staged for commit:\r\n",
      "  (use \"git add <file>...\" to update what will be committed)\r\n",
      "  (use \"git restore <file>...\" to discard changes in working directory)\r\n",
      "\t\u001b[31mmodified:   Main Repository Governance.ipynb\u001b[m\r\n",
      "\r\n"
     ]
    }
   ],
   "source": [
    "!git -C /mnt/c/Users/ali/Desktop/Innovation_Hub_New status"
   ]
  },
  {
   "cell_type": "code",
   "execution_count": 41,
   "id": "b2225bf7",
   "metadata": {},
   "outputs": [],
   "source": [
    "!git -C /mnt/c/Users/ali/Desktop/Innovation_Hub_New add ."
   ]
  },
  {
   "cell_type": "code",
   "execution_count": 42,
   "id": "6dcba061",
   "metadata": {},
   "outputs": [
    {
     "name": "stdout",
     "output_type": "stream",
     "text": [
      "\u001b[31minteractive rebase in progress; onto \u001b[mf378cb8\n",
      "Last command done (1 command done):\n",
      "   pick 63b98ab Initial commit for submodule\n",
      "Next commands to do (4 remaining commands):\n",
      "   pick 79c4ee8 Adding README to submodule\n",
      "   pick 1210893 Added submodule Classification_of_flower_structure_TM1\n",
      "  (use \"git rebase --edit-todo\" to view and edit)\n",
      "You are currently rebasing branch 'main' on 'f378cb8'.\n",
      "  (all conflicts fixed: run \"git rebase --continue\")\n",
      "\n",
      "Changes to be committed:\n",
      "  (use \"git restore --staged <file>...\" to unstage)\n",
      "\t\u001b[32mnew file:   .ipynb_checkpoints/Main Repository Governance-checkpoint.ipynb\u001b[m\n",
      "\t\u001b[32mnew file:   Classification of flower structure_TM1\u001b[m\n",
      "\t\u001b[32mnew file:   Full_Stack_Framework/.ipynb_checkpoints/Full Stack Control Log-checkpoint.ipynb\u001b[m\n",
      "\t\u001b[32mnew file:   Full_Stack_Framework/Full Stack Control Log.ipynb\u001b[m\n",
      "\t\u001b[32mnew file:   Main Repository Governance.ipynb\u001b[m\n",
      "\t\u001b[32mnew file:   desktop.ini\u001b[m\n",
      "\t\u001b[32mnew file:   index.html\u001b[m\n",
      "\n"
     ]
    }
   ],
   "source": [
    "!git -C /mnt/c/Users/ali/Desktop/Innovation_Hub_New status"
   ]
  },
  {
   "cell_type": "code",
   "execution_count": 43,
   "id": "f095c531",
   "metadata": {},
   "outputs": [],
   "source": [
    "!git -C /mnt/c/Users/ali/Desktop/Innovation_Hub_New add ."
   ]
  },
  {
   "cell_type": "code",
   "execution_count": 44,
   "id": "d959b544",
   "metadata": {},
   "outputs": [
    {
     "name": "stdout",
     "output_type": "stream",
     "text": [
      "You must edit all merge conflicts and then\r\n",
      "mark them as resolved using git add\r\n"
     ]
    }
   ],
   "source": [
    "!git -C /mnt/c/Users/ali/Desktop/Innovation_Hub_New rebase --continue"
   ]
  },
  {
   "cell_type": "code",
   "execution_count": 45,
   "id": "ae99d720",
   "metadata": {},
   "outputs": [
    {
     "name": "stdout",
     "output_type": "stream",
     "text": [
      "\u001b[31minteractive rebase in progress; onto \u001b[mf378cb8\n",
      "Last command done (1 command done):\n",
      "   pick 63b98ab Initial commit for submodule\n",
      "Next commands to do (4 remaining commands):\n",
      "   pick 79c4ee8 Adding README to submodule\n",
      "   pick 1210893 Added submodule Classification_of_flower_structure_TM1\n",
      "  (use \"git rebase --edit-todo\" to view and edit)\n",
      "You are currently rebasing branch 'main' on 'f378cb8'.\n",
      "  (all conflicts fixed: run \"git rebase --continue\")\n",
      "\n",
      "Changes to be committed:\n",
      "  (use \"git restore --staged <file>...\" to unstage)\n",
      "\t\u001b[32mnew file:   .ipynb_checkpoints/Main Repository Governance-checkpoint.ipynb\u001b[m\n",
      "\t\u001b[32mnew file:   Classification of flower structure_TM1\u001b[m\n",
      "\t\u001b[32mnew file:   Full_Stack_Framework/.ipynb_checkpoints/Full Stack Control Log-checkpoint.ipynb\u001b[m\n",
      "\t\u001b[32mnew file:   Full_Stack_Framework/Full Stack Control Log.ipynb\u001b[m\n",
      "\t\u001b[32mnew file:   Main Repository Governance.ipynb\u001b[m\n",
      "\t\u001b[32mnew file:   desktop.ini\u001b[m\n",
      "\t\u001b[32mnew file:   index.html\u001b[m\n",
      "\n",
      "Changes not staged for commit:\n",
      "  (use \"git add <file>...\" to update what will be committed)\n",
      "  (use \"git restore <file>...\" to discard changes in working directory)\n",
      "\t\u001b[31mmodified:   Main Repository Governance.ipynb\u001b[m\n",
      "\n"
     ]
    }
   ],
   "source": [
    "!git -C /mnt/c/Users/ali/Desktop/Innovation_Hub_New status"
   ]
  },
  {
   "cell_type": "code",
   "execution_count": 46,
   "id": "0782b8b2",
   "metadata": {},
   "outputs": [],
   "source": [
    "!git -C /mnt/c/Users/ali/Desktop/Innovation_Hub_New add ."
   ]
  },
  {
   "cell_type": "code",
   "execution_count": 47,
   "id": "47480028",
   "metadata": {},
   "outputs": [
    {
     "name": "stdout",
     "output_type": "stream",
     "text": [
      "\u001b[31minteractive rebase in progress; onto \u001b[mf378cb8\n",
      "Last command done (1 command done):\n",
      "   pick 63b98ab Initial commit for submodule\n",
      "Next commands to do (4 remaining commands):\n",
      "   pick 79c4ee8 Adding README to submodule\n",
      "   pick 1210893 Added submodule Classification_of_flower_structure_TM1\n",
      "  (use \"git rebase --edit-todo\" to view and edit)\n",
      "You are currently rebasing branch 'main' on 'f378cb8'.\n",
      "  (all conflicts fixed: run \"git rebase --continue\")\n",
      "\n",
      "Changes to be committed:\n",
      "  (use \"git restore --staged <file>...\" to unstage)\n",
      "\t\u001b[32mnew file:   .ipynb_checkpoints/Main Repository Governance-checkpoint.ipynb\u001b[m\n",
      "\t\u001b[32mnew file:   Classification of flower structure_TM1\u001b[m\n",
      "\t\u001b[32mnew file:   Full_Stack_Framework/.ipynb_checkpoints/Full Stack Control Log-checkpoint.ipynb\u001b[m\n",
      "\t\u001b[32mnew file:   Full_Stack_Framework/Full Stack Control Log.ipynb\u001b[m\n",
      "\t\u001b[32mnew file:   Main Repository Governance.ipynb\u001b[m\n",
      "\t\u001b[32mnew file:   desktop.ini\u001b[m\n",
      "\t\u001b[32mnew file:   index.html\u001b[m\n",
      "\n"
     ]
    }
   ],
   "source": [
    "!git -C /mnt/c/Users/ali/Desktop/Innovation_Hub_New status"
   ]
  },
  {
   "cell_type": "code",
   "execution_count": 48,
   "id": "3da3e47d",
   "metadata": {},
   "outputs": [],
   "source": [
    "!git -C /mnt/c/Users/ali/Desktop/Innovation_Hub_New add ."
   ]
  },
  {
   "cell_type": "code",
   "execution_count": 49,
   "id": "9663ab97",
   "metadata": {},
   "outputs": [
    {
     "name": "stdout",
     "output_type": "stream",
     "text": [
      "\u001b[1B\u001b[m\u001b[7m18\u001b[m \u001b[36m#\u001b[m   \u001b[36mnew file:   Full_Stack_Framework/Full Stack Control Log.ipynb\u001b[2;4H\u001b[m\u001b[m\u001b[20;1H\u001b[m\u001b[7m  \u001b[m \u001b[36mg-checkpoint.ipynbm\u001b[22;32H\u001b[7m[ Read 22 lines ]\u001b[m\u001b[H\u001b[7m    /mnt/c/Users/ali/Desktop/Innovation_Hub_New/.git/COMMIT_EDITMSG          S  \u001b[1;79H\u001b[m\u001b[22;12H\u001b[7m[ line  1/23 ( 4%), col  1/29 (  3%), char   0/937 ( 0%) ]\u001b[m\u001b[22;12H                 \u001b[7m[ Justified paragraph ]\u001b[m\u001b[K\u001b[1;69H\u001b[7m*\u001b[9C\u001b[m\u001b[3;4H"
     ]
    }
   ],
   "source": [
    "!git -C /mnt/c/Users/ali/Desktop/Innovation_Hub_New rebase --continue"
   ]
  },
  {
   "cell_type": "code",
   "execution_count": 50,
   "id": "e3545c6f",
   "metadata": {},
   "outputs": [
    {
     "name": "stdout",
     "output_type": "stream",
     "text": [
      "\u001b[1B\u001b[m\u001b[7m18\u001b[m \u001b[36m#\u001b[m   \u001b[36mnew file:   Full_Stack_Framework/Full Stack Control Log.ipynb\u001b[2;4H\u001b[m\u001b[m\u001b[22;12H\u001b[7m[ line  1/23 ( 4%), col  1/29 (  3%), char   0/937 ( 0%) ]\u001b[m\u001b[22;12H                 \u001b[7m[ Justified paragraph ]\u001b[m\u001b[K\u001b[1;69H\u001b[7m*\u001b[9C\u001b[m\u001b[3;4H"
     ]
    }
   ],
   "source": [
    "!nano /mnt/c/Users/ali/Desktop/Innovation_Hub_New/.git/COMMIT_EDITMSG"
   ]
  },
  {
   "cell_type": "code",
   "execution_count": 51,
   "id": "73ceab5a",
   "metadata": {},
   "outputs": [
    {
     "name": "stdout",
     "output_type": "stream",
     "text": [
      "Initial commit for submodule\r\n",
      "\r\n",
      "# Please enter the commit message for your changes. Lines starting\r\n",
      "# with '#' will be ignored, and an empty message aborts the commit.\r\n",
      "#\r\n",
      "# interactive rebase in progress; onto f378cb8\r\n",
      "# Last command done (1 command done):\r\n",
      "#    pick 63b98ab Initial commit for submodule\r\n",
      "# Next commands to do (4 remaining commands):\r\n",
      "#    pick 79c4ee8 Adding README to submodule\r\n",
      "#    pick 1210893 Added submodule Classification_of_flower_structure_TM1\r\n",
      "# You are currently rebasing branch 'main' on 'f378cb8'.\r\n",
      "#\r\n",
      "# Changes to be committed:\r\n",
      "#\tnew file:   .ipynb_checkpoints/Main Repository Governance-checkpoint.ipynb\r\n",
      "#\tnew file:   Classification of flower structure_TM1\r\n",
      "#\tnew file:   Full_Stack_Framework/.ipynb_checkpoints/Full Stack Control Log-checkpoint.ipynb\r\n",
      "#\tnew file:   Full_Stack_Framework/Full Stack Control Log.ipynb\r\n",
      "#\tnew file:   Main Repository Governance.ipynb\r\n",
      "#\tnew file:   desktop.ini\r\n",
      "#\tnew file:   index.html\r\n",
      "#\r\n"
     ]
    }
   ],
   "source": [
    "!cat /mnt/c/Users/ali/Desktop/Innovation_Hub_New/.git/COMMIT_EDITMSG"
   ]
  },
  {
   "cell_type": "code",
   "execution_count": 52,
   "id": "93d0ac03",
   "metadata": {},
   "outputs": [
    {
     "name": "stdout",
     "output_type": "stream",
     "text": [
      "You must edit all merge conflicts and then\r\n",
      "mark them as resolved using git add\r\n"
     ]
    }
   ],
   "source": [
    "!git -C /mnt/c/Users/ali/Desktop/Innovation_Hub_New rebase --continue"
   ]
  },
  {
   "cell_type": "code",
   "execution_count": 53,
   "id": "ca4b7f1f",
   "metadata": {
    "scrolled": true
   },
   "outputs": [
    {
     "name": "stdout",
     "output_type": "stream",
     "text": [
      "\u001b[31minteractive rebase in progress; onto \u001b[mf378cb8\r\n",
      "Last command done (1 command done):\r\n",
      "   pick 63b98ab Initial commit for submodule\r\n",
      "Next commands to do (4 remaining commands):\r\n",
      "   pick 79c4ee8 Adding README to submodule\r\n",
      "   pick 1210893 Added submodule Classification_of_flower_structure_TM1\r\n",
      "  (use \"git rebase --edit-todo\" to view and edit)\r\n",
      "You are currently rebasing branch 'main' on 'f378cb8'.\r\n",
      "  (all conflicts fixed: run \"git rebase --continue\")\r\n",
      "\r\n",
      "Changes to be committed:\r\n",
      "  (use \"git restore --staged <file>...\" to unstage)\r\n",
      "\t\u001b[32mnew file:   .ipynb_checkpoints/Main Repository Governance-checkpoint.ipynb\u001b[m\r\n",
      "\t\u001b[32mnew file:   Classification of flower structure_TM1\u001b[m\r\n",
      "\t\u001b[32mnew file:   Full_Stack_Framework/.ipynb_checkpoints/Full Stack Control Log-checkpoint.ipynb\u001b[m\r\n",
      "\t\u001b[32mnew file:   Full_Stack_Framework/Full Stack Control Log.ipynb\u001b[m\r\n",
      "\t\u001b[32mnew file:   Main Repository Governance.ipynb\u001b[m\r\n",
      "\t\u001b[32mnew file:   desktop.ini\u001b[m\r\n",
      "\t\u001b[32mnew file:   index.html\u001b[m\r\n",
      "\r\n",
      "Changes not staged for commit:\r\n",
      "  (use \"git add <file>...\" to update what will be committed)\r\n",
      "  (use \"git restore <file>...\" to discard changes in working directory)\r\n",
      "\t\u001b[31mmodified:   Main Repository Governance.ipynb\u001b[m\r\n",
      "\r\n"
     ]
    }
   ],
   "source": [
    "!git -C /mnt/c/Users/ali/Desktop/Innovation_Hub_New status\n"
   ]
  },
  {
   "cell_type": "code",
   "execution_count": null,
   "id": "d889db39",
   "metadata": {},
   "outputs": [],
   "source": []
  }
 ],
 "metadata": {
  "kernelspec": {
   "display_name": "Python 3 (ipykernel)",
   "language": "python",
   "name": "python3"
  },
  "language_info": {
   "codemirror_mode": {
    "name": "ipython",
    "version": 3
   },
   "file_extension": ".py",
   "mimetype": "text/x-python",
   "name": "python",
   "nbconvert_exporter": "python",
   "pygments_lexer": "ipython3",
   "version": "3.12.3"
  }
 },
 "nbformat": 4,
 "nbformat_minor": 5
}
