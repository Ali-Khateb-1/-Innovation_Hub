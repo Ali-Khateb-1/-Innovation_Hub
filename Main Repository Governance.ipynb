{
 "cells": [
  {
   "cell_type": "markdown",
   "id": "fad96e33",
   "metadata": {},
   "source": [
    "🔹 Quick Description – \"Main Repository Governance\"\n",
    "Main Repository Governance serves as the primary administrative framework for managing the main repository. It establishes guidelines, policies, and control strategies to ensure sustainable development and adherence to quality standards.\n"
   ]
  },
  {
   "cell_type": "markdown",
   "id": "520d6327",
   "metadata": {},
   "source": [
    " Jupyter Notebook\n",
    "Main Repository Governance\n",
    "Last Checkpoint: 4 minutes ago\n",
    "(unsaved changes)\n",
    "Current Kernel Logo\n",
    "Python 3 (ipykernel) \n",
    "File\n",
    "Edit\n",
    "View\n",
    "Insert\n",
    "Cell\n",
    "Kernel\n",
    "Help\n",
    "\n",
    "Code\n",
    "🔹 Quick Description – \"Main Repository Governance\" Main Repository Governance serves as the primary administrative framework for managing the main repository. It establishes guidelines, policies, and control strategies to ensure sustainable development and adherence to quality standards.\n",
    "\n",
    "Main Repository Governance is the central reference for managing the main repository, defining control mechanisms, workflow structures, and contribution guidelines to ensure continuity and best practices. This document includes:\n",
    "\n",
    "Project structure and branch roles to maintain clear organization.\n",
    "Contribution and review policies to uphold quality and compliance.\n",
    "Synchronization and update strategies to keep the repository stable.\n",
    "Variable and environment management to optimize operational efficiency across different systems.\n",
    "​\n",
    "​\n"
   ]
  },
  {
   "cell_type": "code",
   "execution_count": 3,
   "id": "a7719a3c",
   "metadata": {},
   "outputs": [
    {
     "name": "stdout",
     "output_type": "stream",
     "text": [
      "[main 79c4ee8] Adding README to submodule\r\n",
      " 1 file changed, 1 insertion(+)\r\n",
      " create mode 100644 README.md\r\n"
     ]
    }
   ],
   "source": [
    "!cd /mnt/c/Users/ali/Desktop/Innovation_Hub_New/Classification\\ of\\ flower\\ structure_TM1\n",
    "!touch README.md\n",
    "!echo \"# Classification of Flower Structure TM1\" > README.md\n",
    "!git add README.md\n",
    "!git commit -m \"Adding README to submodule\""
   ]
  },
  {
   "cell_type": "code",
   "execution_count": 5,
   "id": "286e2ab9",
   "metadata": {},
   "outputs": [
    {
     "name": "stdout",
     "output_type": "stream",
     "text": [
      "/mnt/c/Users/ali/Desktop/Innovation_Hub_New\n"
     ]
    }
   ],
   "source": [
    "%cd /mnt/c/Users/ali/Desktop/Innovation_Hub_New"
   ]
  },
  {
   "cell_type": "code",
   "execution_count": 6,
   "id": "64857c6e",
   "metadata": {},
   "outputs": [],
   "source": [
    "!git submodule update --init --recursive"
   ]
  },
  {
   "cell_type": "code",
   "execution_count": 7,
   "id": "53089fd3",
   "metadata": {},
   "outputs": [
    {
     "name": "stdout",
     "output_type": "stream",
     "text": [
      ".  ..  .git\r\n"
     ]
    }
   ],
   "source": [
    "!ls -a /mnt/c/Users/ali/Desktop/Innovation_Hub_New/Classification\\ of\\ flower\\ structure_TM1"
   ]
  },
  {
   "cell_type": "code",
   "execution_count": 9,
   "id": "1a2443f6",
   "metadata": {},
   "outputs": [
    {
     "name": "stdout",
     "output_type": "stream",
     "text": [
      "error: src refspec main does not match any\r\n",
      "\u001b[31merror: failed to push some refs to 'https://github.com/ALI/Classification_of_flower_structure_TM1.git'\r\n",
      "\u001b[m"
     ]
    }
   ],
   "source": [
    "!git -C /mnt/c/Users/ali/Desktop/Innovation_Hub_New/Classification\\ of\\ flower\\ structure_TM1 remote add origin https://github.com/ALI/Classification_of_flower_structure_TM1.git\n",
    "!git -C /mnt/c/Users/ali/Desktop/Innovation_Hub_New/Classification\\ of\\ flower\\ structure_TM1 push -u origin main"
   ]
  },
  {
   "cell_type": "code",
   "execution_count": 10,
   "id": "dbbff57d",
   "metadata": {},
   "outputs": [
    {
     "name": "stdout",
     "output_type": "stream",
     "text": [
      "* \u001b[32mmaster\u001b[m\r\n"
     ]
    }
   ],
   "source": [
    "!git -C /mnt/c/Users/ali/Desktop/Innovation_Hub_New/Classification\\ of\\ flower\\ structure_TM1 branch"
   ]
  },
  {
   "cell_type": "code",
   "execution_count": 11,
   "id": "5908ae84",
   "metadata": {},
   "outputs": [],
   "source": [
    "!git -C /mnt/c/Users/ali/Desktop/Innovation_Hub_New/Classification\\ of\\ flower\\ structure_TM1 branch -m main"
   ]
  },
  {
   "cell_type": "code",
   "execution_count": 12,
   "id": "5d8d2fa8",
   "metadata": {},
   "outputs": [
    {
     "name": "stdout",
     "output_type": "stream",
     "text": [
      "* \u001b[32mmain\u001b[m\r\n"
     ]
    }
   ],
   "source": [
    "!git -C /mnt/c/Users/ali/Desktop/Innovation_Hub_New/Classification\\ of\\ flower\\ structure_TM1 branch"
   ]
  },
  {
   "cell_type": "code",
   "execution_count": 14,
   "id": "0de2952c",
   "metadata": {},
   "outputs": [
    {
     "name": "stdout",
     "output_type": "stream",
     "text": [
      "origin\thttps://github.com/ALI/Classification_of_flower_structure_TM1.git (fetch)\r\n",
      "origin\thttps://github.com/ALI/Classification_of_flower_structure_TM1.git (push)\r\n"
     ]
    }
   ],
   "source": [
    "!git -C /mnt/c/Users/ali/Desktop/Innovation_Hub_New/Classification\\ of\\ flower\\ structure_TM1 remote -v"
   ]
  },
  {
   "cell_type": "code",
   "execution_count": 15,
   "id": "cef305ec",
   "metadata": {},
   "outputs": [
    {
     "name": "stdout",
     "output_type": "stream",
     "text": [
      ".  ..  .git  README.md\r\n"
     ]
    }
   ],
   "source": [
    "!ls -a /mnt/c/Users/ali/Desktop/Innovation_Hub_New/Classification\\ of\\ flower\\ structure_TM1"
   ]
  },
  {
   "cell_type": "code",
   "execution_count": 16,
   "id": "b188eb85",
   "metadata": {},
   "outputs": [
    {
     "name": "stdout",
     "output_type": "stream",
     "text": [
      ".  ..  .git  README.md\r\n"
     ]
    }
   ],
   "source": [
    "!ls -a /mnt/c/Users/ali/Desktop/Innovation_Hub_New/Classification\\ of\\ flower\\ structure_TM1"
   ]
  },
  {
   "cell_type": "code",
   "execution_count": 17,
   "id": "fc636a7b",
   "metadata": {},
   "outputs": [
    {
     "name": "stdout",
     "output_type": "stream",
     "text": [
      "'Classification of flower structure_TM1'   Private\r\n",
      " Full_Stack_Framework\t\t\t   README.md\r\n",
      " LICENSE\t\t\t\t   desktop.ini\r\n",
      "'Main Repository Governance.ipynb'\t   index.html\r\n"
     ]
    }
   ],
   "source": [
    "!ls /mnt/c/Users/ali/Desktop/Innovation_Hub_New/"
   ]
  },
  {
   "cell_type": "code",
   "execution_count": 18,
   "id": "b4241d0f",
   "metadata": {},
   "outputs": [
    {
     "name": "stdout",
     "output_type": "stream",
     "text": [
      ".  ..  .git  README.md\r\n"
     ]
    }
   ],
   "source": [
    "!ls -a /mnt/c/Users/ali/Desktop/Innovation_Hub_New/Classification\\ of\\ flower\\ structure_TM1\n"
   ]
  },
  {
   "cell_type": "code",
   "execution_count": 19,
   "id": "e763c3c4",
   "metadata": {},
   "outputs": [
    {
     "name": "stdout",
     "output_type": "stream",
     "text": [
      "On branch main\r\n",
      "nothing to commit, working tree clean\r\n"
     ]
    }
   ],
   "source": [
    "!git -C /mnt/c/Users/ali/Desktop/Innovation_Hub_New/Classification\\ of\\ flower\\ structure_TM1 status"
   ]
  },
  {
   "cell_type": "code",
   "execution_count": 20,
   "id": "50f7325d",
   "metadata": {},
   "outputs": [
    {
     "name": "stdout",
     "output_type": "stream",
     "text": [
      "origin\thttps://github.com/ALI/Classification_of_flower_structure_TM1.git (fetch)\r\n",
      "origin\thttps://github.com/ALI/Classification_of_flower_structure_TM1.git (push)\r\n"
     ]
    }
   ],
   "source": [
    "!git -C /mnt/c/Users/ali/Desktop/Innovation_Hub_New/Classification\\ of\\ flower\\ structure_TM1 remote -v"
   ]
  },
  {
   "cell_type": "code",
   "execution_count": 21,
   "id": "5e9460cf",
   "metadata": {},
   "outputs": [
    {
     "name": "stdout",
     "output_type": "stream",
     "text": [
      "Username for 'https://github.com': ^C\n"
     ]
    }
   ],
   "source": [
    "!git -C /mnt/c/Users/ali/Desktop/Innovation_Hub_New/Classification\\ of\\ flower\\ structure_TM1 push -u origin main"
   ]
  },
  {
   "cell_type": "code",
   "execution_count": 22,
   "id": "9b43ce24",
   "metadata": {},
   "outputs": [
    {
     "name": "stdout",
     "output_type": "stream",
     "text": [
      "[main 7721bcc] Committing all changes before push\r\n",
      " 1 file changed, 285 insertions(+), 6 deletions(-)\r\n"
     ]
    }
   ],
   "source": [
    "!git -C /mnt/c/Users/ali/Desktop/Innovation_Hub_New add .\n",
    "!git -C /mnt/c/Users/ali/Desktop/Innovation_Hub_New commit -m \"Committing all changes before push\""
   ]
  },
  {
   "cell_type": "code",
   "execution_count": 23,
   "id": "ee7117b6",
   "metadata": {},
   "outputs": [
    {
     "name": "stdout",
     "output_type": "stream",
     "text": [
      "Username for 'https://github.com': ^C\n"
     ]
    }
   ],
   "source": []
  },
  {
   "cell_type": "code",
   "execution_count": 24,
   "id": "881bf74f",
   "metadata": {},
   "outputs": [],
   "source": [
    "!git config --global credential.helper cache"
   ]
  },
  {
   "cell_type": "code",
   "execution_count": 25,
   "id": "1c9f0958",
   "metadata": {},
   "outputs": [
    {
     "name": "stdout",
     "output_type": "stream",
     "text": [
      "Username for 'https://github.com': ^C\n"
     ]
    }
   ],
   "source": [
    "!git -C /mnt/c/Users/ali/Desktop/Innovation_Hub_New push origin main"
   ]
  },
  {
   "cell_type": "code",
   "execution_count": 26,
   "id": "e3ff73a5",
   "metadata": {},
   "outputs": [
    {
     "name": "stdout",
     "output_type": "stream",
     "text": [
      "Username for 'https://github.com': ^C\n"
     ]
    }
   ],
   "source": [
    "!git -C /mnt/c/Users/ali/Desktop/Innovation_Hub_New push origin main"
   ]
  },
  {
   "cell_type": "code",
   "execution_count": 27,
   "id": "cd4f3a7f",
   "metadata": {},
   "outputs": [
    {
     "name": "stdout",
     "output_type": "stream",
     "text": [
      "To https://github.com/Ali-Khateb-1/-Innovation_Hub.git\r\n",
      " \u001b[31m! [rejected]       \u001b[m main -> main (fetch first)\r\n",
      "\u001b[31merror: failed to push some refs to 'https://github.com/Ali-Khateb-1/-Innovation_Hub.git'\r\n",
      "\u001b[m\u001b[33mhint: Updates were rejected because the remote contains work that you do not\u001b[m\r\n",
      "\u001b[33mhint: have locally. This is usually caused by another repository pushing to\u001b[m\r\n",
      "\u001b[33mhint: the same ref. If you want to integrate the remote changes, use\u001b[m\r\n",
      "\u001b[33mhint: 'git pull' before pushing again.\u001b[m\r\n",
      "\u001b[33mhint: See the 'Note about fast-forwards' in 'git push --help' for details.\u001b[m\r\n"
     ]
    }
   ],
   "source": [
    "!git -C /mnt/c/Users/ali/Desktop/Innovation_Hub_New push origin main"
   ]
  },
  {
   "cell_type": "code",
   "execution_count": 28,
   "id": "656a3727",
   "metadata": {},
   "outputs": [
    {
     "ename": "SyntaxError",
     "evalue": "invalid syntax (2333150537.py, line 1)",
     "output_type": "error",
     "traceback": [
      "\u001b[0;36m  Cell \u001b[0;32mIn[28], line 1\u001b[0;36m\u001b[0m\n\u001b[0;31m    git pull origin main --rebase\u001b[0m\n\u001b[0m        ^\u001b[0m\n\u001b[0;31mSyntaxError\u001b[0m\u001b[0;31m:\u001b[0m invalid syntax\n"
     ]
    }
   ],
   "source": [
    "git pull origin main --rebase"
   ]
  },
  {
   "cell_type": "code",
   "execution_count": 29,
   "id": "03cda95b",
   "metadata": {},
   "outputs": [
    {
     "name": "stdout",
     "output_type": "stream",
     "text": [
      "error: cannot pull with rebase: You have unstaged changes.\r\n",
      "error: Please commit or stash them.\r\n"
     ]
    }
   ],
   "source": [
    "!git -C /mnt/c/Users/ali/Desktop/Innovation_Hub_New pull origin main --rebase"
   ]
  },
  {
   "cell_type": "code",
   "execution_count": 30,
   "id": "aef0a50d",
   "metadata": {},
   "outputs": [
    {
     "name": "stdout",
     "output_type": "stream",
     "text": [
      "On branch main\n",
      "Your branch is ahead of 'origin/main' by 4 commits.\n",
      "  (use \"git push\" to publish your local commits)\n",
      "\n",
      "Changes not staged for commit:\n",
      "  (use \"git add <file>...\" to update what will be committed)\n",
      "  (use \"git restore <file>...\" to discard changes in working directory)\n",
      "\t\u001b[31mmodified:   Main Repository Governance.ipynb\u001b[m\n",
      "\n",
      "no changes added to commit (use \"git add\" and/or \"git commit -a\")\n"
     ]
    }
   ],
   "source": [
    "!git -C /mnt/c/Users/ali/Desktop/Innovation_Hub_New status"
   ]
  },
  {
   "cell_type": "code",
   "execution_count": null,
   "id": "02213d5b",
   "metadata": {},
   "outputs": [],
   "source": [
    " "
   ]
  }
 ],
 "metadata": {
  "kernelspec": {
   "display_name": "Python 3 (ipykernel)",
   "language": "python",
   "name": "python3"
  },
  "language_info": {
   "codemirror_mode": {
    "name": "ipython",
    "version": 3
   },
   "file_extension": ".py",
   "mimetype": "text/x-python",
   "name": "python",
   "nbconvert_exporter": "python",
   "pygments_lexer": "ipython3",
   "version": "3.12.3"
  }
 },
 "nbformat": 4,
 "nbformat_minor": 5
}
