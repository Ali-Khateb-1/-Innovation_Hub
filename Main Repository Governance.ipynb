{
 "cells": [
  {
   "cell_type": "markdown",
   "id": "cb82afe4",
   "metadata": {},
   "source": [
    "🔹 Quick Description – \"Main Repository Governance\"\n",
    "Main Repository Governance serves as the primary administrative framework for managing the main repository. It establishes guidelines, policies, and control strategies to ensure sustainable development and adherence to quality standards.\n"
   ]
  },
  {
   "cell_type": "markdown",
   "id": "b7f8585c",
   "metadata": {},
   "source": [
    " Jupyter Notebook\n",
    "Main Repository Governance\n",
    "Last Checkpoint: 4 minutes ago\n",
    "(unsaved changes)\n",
    "Current Kernel Logo\n",
    "Python 3 (ipykernel) \n",
    "File\n",
    "Edit\n",
    "View\n",
    "Insert\n",
    "Cell\n",
    "Kernel\n",
    "Help\n",
    "\n",
    "Code\n",
    "🔹 Quick Description – \"Main Repository Governance\" Main Repository Governance serves as the primary administrative framework for managing the main repository. It establishes guidelines, policies, and control strategies to ensure sustainable development and adherence to quality standards.\n",
    "\n",
    "Main Repository Governance is the central reference for managing the main repository, defining control mechanisms, workflow structures, and contribution guidelines to ensure continuity and best practices. This document includes:\n",
    "\n",
    "Project structure and branch roles to maintain clear organization.\n",
    "Contribution and review policies to uphold quality and compliance.\n",
    "Synchronization and update strategies to keep the repository stable.\n",
    "Variable and environment management to optimize operational efficiency across different systems.\n",
    "​\n",
    "​\n"
   ]
  },
  {
   "cell_type": "code",
   "execution_count": 3,
   "id": "74799975",
   "metadata": {},
   "outputs": [
    {
     "name": "stdout",
     "output_type": "stream",
     "text": [
      "[main 79c4ee8] Adding README to submodule\r\n",
      " 1 file changed, 1 insertion(+)\r\n",
      " create mode 100644 README.md\r\n"
     ]
    }
   ],
   "source": [
    "!cd /mnt/c/Users/ali/Desktop/Innovation_Hub_New/Classification\\ of\\ flower\\ structure_TM1\n",
    "!touch README.md\n",
    "!echo \"# Classification of Flower Structure TM1\" > README.md\n",
    "!git add README.md\n",
    "!git commit -m \"Adding README to submodule\""
   ]
  },
  {
   "cell_type": "code",
   "execution_count": 5,
   "id": "585af52c",
   "metadata": {},
   "outputs": [
    {
     "name": "stdout",
     "output_type": "stream",
     "text": [
      "/mnt/c/Users/ali/Desktop/Innovation_Hub_New\n"
     ]
    }
   ],
   "source": [
    "%cd /mnt/c/Users/ali/Desktop/Innovation_Hub_New"
   ]
  },
  {
   "cell_type": "code",
   "execution_count": 6,
   "id": "05d6d913",
   "metadata": {},
   "outputs": [],
   "source": [
    "!git submodule update --init --recursive"
   ]
  },
  {
   "cell_type": "code",
   "execution_count": 7,
   "id": "b57ba198",
   "metadata": {},
   "outputs": [
    {
     "name": "stdout",
     "output_type": "stream",
     "text": [
      ".  ..  .git\r\n"
     ]
    }
   ],
   "source": [
    "!ls -a /mnt/c/Users/ali/Desktop/Innovation_Hub_New/Classification\\ of\\ flower\\ structure_TM1"
   ]
  },
  {
   "cell_type": "code",
   "execution_count": 9,
   "id": "274dc41c",
   "metadata": {},
   "outputs": [
    {
     "name": "stdout",
     "output_type": "stream",
     "text": [
      "error: src refspec main does not match any\r\n",
      "\u001b[31merror: failed to push some refs to 'https://github.com/ALI/Classification_of_flower_structure_TM1.git'\r\n",
      "\u001b[m"
     ]
    }
   ],
   "source": [
    "!git -C /mnt/c/Users/ali/Desktop/Innovation_Hub_New/Classification\\ of\\ flower\\ structure_TM1 remote add origin https://github.com/ALI/Classification_of_flower_structure_TM1.git\n",
    "!git -C /mnt/c/Users/ali/Desktop/Innovation_Hub_New/Classification\\ of\\ flower\\ structure_TM1 push -u origin main"
   ]
  },
  {
   "cell_type": "code",
   "execution_count": 10,
   "id": "05f499c6",
   "metadata": {},
   "outputs": [
    {
     "name": "stdout",
     "output_type": "stream",
     "text": [
      "* \u001b[32mmaster\u001b[m\r\n"
     ]
    }
   ],
   "source": [
    "!git -C /mnt/c/Users/ali/Desktop/Innovation_Hub_New/Classification\\ of\\ flower\\ structure_TM1 branch"
   ]
  },
  {
   "cell_type": "code",
   "execution_count": 11,
   "id": "643507e8",
   "metadata": {},
   "outputs": [],
   "source": [
    "!git -C /mnt/c/Users/ali/Desktop/Innovation_Hub_New/Classification\\ of\\ flower\\ structure_TM1 branch -m main"
   ]
  },
  {
   "cell_type": "code",
   "execution_count": 12,
   "id": "d8b162bd",
   "metadata": {},
   "outputs": [
    {
     "name": "stdout",
     "output_type": "stream",
     "text": [
      "* \u001b[32mmain\u001b[m\r\n"
     ]
    }
   ],
   "source": [
    "!git -C /mnt/c/Users/ali/Desktop/Innovation_Hub_New/Classification\\ of\\ flower\\ structure_TM1 branch"
   ]
  },
  {
   "cell_type": "code",
   "execution_count": 14,
   "id": "7eadb074",
   "metadata": {},
   "outputs": [
    {
     "name": "stdout",
     "output_type": "stream",
     "text": [
      "origin\thttps://github.com/ALI/Classification_of_flower_structure_TM1.git (fetch)\r\n",
      "origin\thttps://github.com/ALI/Classification_of_flower_structure_TM1.git (push)\r\n"
     ]
    }
   ],
   "source": [
    "!git -C /mnt/c/Users/ali/Desktop/Innovation_Hub_New/Classification\\ of\\ flower\\ structure_TM1 remote -v"
   ]
  },
  {
   "cell_type": "code",
   "execution_count": 15,
   "id": "79adbf31",
   "metadata": {},
   "outputs": [
    {
     "name": "stdout",
     "output_type": "stream",
     "text": [
      ".  ..  .git  README.md\r\n"
     ]
    }
   ],
   "source": [
    "!ls -a /mnt/c/Users/ali/Desktop/Innovation_Hub_New/Classification\\ of\\ flower\\ structure_TM1"
   ]
  },
  {
   "cell_type": "code",
   "execution_count": 16,
   "id": "263ec938",
   "metadata": {},
   "outputs": [
    {
     "name": "stdout",
     "output_type": "stream",
     "text": [
      ".  ..  .git  README.md\r\n"
     ]
    }
   ],
   "source": [
    "!ls -a /mnt/c/Users/ali/Desktop/Innovation_Hub_New/Classification\\ of\\ flower\\ structure_TM1"
   ]
  },
  {
   "cell_type": "code",
   "execution_count": 17,
   "id": "3628d6cb",
   "metadata": {},
   "outputs": [
    {
     "name": "stdout",
     "output_type": "stream",
     "text": [
      "'Classification of flower structure_TM1'   Private\r\n",
      " Full_Stack_Framework\t\t\t   README.md\r\n",
      " LICENSE\t\t\t\t   desktop.ini\r\n",
      "'Main Repository Governance.ipynb'\t   index.html\r\n"
     ]
    }
   ],
   "source": [
    "!ls /mnt/c/Users/ali/Desktop/Innovation_Hub_New/"
   ]
  },
  {
   "cell_type": "code",
   "execution_count": 18,
   "id": "f1a2133a",
   "metadata": {},
   "outputs": [
    {
     "name": "stdout",
     "output_type": "stream",
     "text": [
      ".  ..  .git  README.md\r\n"
     ]
    }
   ],
   "source": [
    "!ls -a /mnt/c/Users/ali/Desktop/Innovation_Hub_New/Classification\\ of\\ flower\\ structure_TM1\n"
   ]
  },
  {
   "cell_type": "code",
   "execution_count": 19,
   "id": "85eedd6c",
   "metadata": {},
   "outputs": [
    {
     "name": "stdout",
     "output_type": "stream",
     "text": [
      "On branch main\r\n",
      "nothing to commit, working tree clean\r\n"
     ]
    }
   ],
   "source": [
    "!git -C /mnt/c/Users/ali/Desktop/Innovation_Hub_New/Classification\\ of\\ flower\\ structure_TM1 status"
   ]
  },
  {
   "cell_type": "code",
   "execution_count": 20,
   "id": "30d8ff24",
   "metadata": {},
   "outputs": [
    {
     "name": "stdout",
     "output_type": "stream",
     "text": [
      "origin\thttps://github.com/ALI/Classification_of_flower_structure_TM1.git (fetch)\r\n",
      "origin\thttps://github.com/ALI/Classification_of_flower_structure_TM1.git (push)\r\n"
     ]
    }
   ],
   "source": [
    "!git -C /mnt/c/Users/ali/Desktop/Innovation_Hub_New/Classification\\ of\\ flower\\ structure_TM1 remote -v"
   ]
  },
  {
   "cell_type": "code",
   "execution_count": 21,
   "id": "84f3339f",
   "metadata": {},
   "outputs": [
    {
     "name": "stdout",
     "output_type": "stream",
     "text": [
      "Username for 'https://github.com': ^C\n"
     ]
    }
   ],
   "source": [
    "!git -C /mnt/c/Users/ali/Desktop/Innovation_Hub_New/Classification\\ of\\ flower\\ structure_TM1 push -u origin main"
   ]
  },
  {
   "cell_type": "code",
   "execution_count": null,
   "id": "c235192b",
   "metadata": {},
   "outputs": [],
   "source": []
  }
 ],
 "metadata": {
  "kernelspec": {
   "display_name": "Python 3 (ipykernel)",
   "language": "python",
   "name": "python3"
  },
  "language_info": {
   "codemirror_mode": {
    "name": "ipython",
    "version": 3
   },
   "file_extension": ".py",
   "mimetype": "text/x-python",
   "name": "python",
   "nbconvert_exporter": "python",
   "pygments_lexer": "ipython3",
   "version": "3.12.3"
  }
 },
 "nbformat": 4,
 "nbformat_minor": 5
}
