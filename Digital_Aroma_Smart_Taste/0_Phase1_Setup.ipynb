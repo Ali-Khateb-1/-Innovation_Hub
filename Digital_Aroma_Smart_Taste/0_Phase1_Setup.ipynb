{
 "cells": [
  {
   "cell_type": "code",
   "execution_count": 1,
   "id": "d0efed55",
   "metadata": {},
   "outputs": [
    {
     "name": "stdout",
     "output_type": "stream",
     "text": [
      "File 'create_readme.py' saved at: /mnt/c/Users/ali/Desktop/Digital_Aroma_Smart_Taste/create_readme.py\n"
     ]
    }
   ],
   "source": [
    " # نص الكود الذي يقوم بإنشاء/تحديث ملف README.md\n",
    "code_to_save = '''import os\n",
    "import time\n",
    "import shutil\n",
    "import logging\n",
    "\n",
    "# تعريف المتغيرات التي ستُكوّن محتوى README\n",
    "title = \"# Digital Aroma Smart Taste\"\n",
    "intro = \"This project aims to integrate advanced AI for digital aroma and intelligent taste analysis.\"\n",
    "objectives = (\"## Objectives\\\\n\"\n",
    "              \"- Develop a robust AI model for image classification.\\\\n\"\n",
    "              \"- Integrate data fusion and strategic marketing techniques.\\\\n\"\n",
    "              \"- Ensure systematic documentation and backups.\")\n",
    "\n",
    "# تجميع المحتوى في سلسلة واحدة (يمكن تعديل التنسيق حسب الحاجة)\n",
    "readme_content = f\"{title}\\\\n\\\\n{intro}\\\\n\\\\n{objectives}\\\\n\"\n",
    "\n",
    "# تحديد مسار حفظ ملف README.md\n",
    "readme_path = \"/mnt/c/Users/ali/Desktop/Digital_Aroma_Smart_Taste/README.md\"\n",
    "\n",
    "# فتح الملف بوضع الكتابة (w)؛ إذا كان موجودًا يستبدله بالمحتوى الجديد\n",
    "with open(readme_path, \"w\", encoding=\"utf-8\") as file:\n",
    "    file.write(readme_content)\n",
    "\n",
    "print(f\"README file created at: {readme_path}\")\n",
    "'''\n",
    "\n",
    "# تحديد مسار حفظ الكود في ملف create_readme.py داخل مجلد المشروع\n",
    "save_path = \"/mnt/c/Users/ali/Desktop/Digital_Aroma_Smart_Taste/create_readme.py\"\n",
    "\n",
    "# كتابة سلسلة الكود في الملف\n",
    "with open(save_path, \"w\", encoding=\"utf-8\") as f:\n",
    "    f.write(code_to_save)\n",
    "\n",
    "print(f\"File 'create_readme.py' saved at: {save_path}\")"
   ]
  },
  {
   "cell_type": "code",
   "execution_count": 2,
   "id": "bd93ccf9",
   "metadata": {},
   "outputs": [
    {
     "ename": "NameError",
     "evalue": "name 'python' is not defined",
     "output_type": "error",
     "traceback": [
      "\u001b[0;31m---------------------------------------------------------------------------\u001b[0m",
      "\u001b[0;31mNameError\u001b[0m                                 Traceback (most recent call last)",
      "Cell \u001b[0;32mIn[2], line 1\u001b[0m\n\u001b[0;32m----> 1\u001b[0m \u001b[43mpython\u001b[49m \u001b[38;5;241m/\u001b[39mmnt\u001b[38;5;241m/\u001b[39mc\u001b[38;5;241m/\u001b[39mUsers\u001b[38;5;241m/\u001b[39mali\u001b[38;5;241m/\u001b[39mDesktop\u001b[38;5;241m/\u001b[39mDigital_Aroma_Smart_Taste\u001b[38;5;241m/\u001b[39mcreate_readme\u001b[38;5;241m.\u001b[39mpy\n",
      "\u001b[0;31mNameError\u001b[0m: name 'python' is not defined"
     ]
    }
   ],
   "source": [
    "python /mnt/c/Users/ali/Desktop/Digital_Aroma_Smart_Taste/create_readme.py"
   ]
  },
  {
   "cell_type": "code",
   "execution_count": 3,
   "id": "25235c96",
   "metadata": {},
   "outputs": [
    {
     "name": "stdout",
     "output_type": "stream",
     "text": [
      "README file created at: /mnt/c/Users/ali/Desktop/Digital_Aroma_Smart_Taste/README.md\r\n"
     ]
    }
   ],
   "source": [
    "!python /mnt/c/Users/ali/Desktop/Digital_Aroma_Smart_Taste/create_readme.py"
   ]
  },
  {
   "cell_type": "code",
   "execution_count": 4,
   "id": "8c485904",
   "metadata": {},
   "outputs": [
    {
     "name": "stdout",
     "output_type": "stream",
     "text": [
      "README file created at: /mnt/c/Users/ali/Desktop/Digital_Aroma_Smart_Taste/README.md\n"
     ]
    }
   ],
   "source": [
    "%run /mnt/c/Users/ali/Desktop/Digital_Aroma_Smart_Taste/create_readme.py"
   ]
  },
  {
   "cell_type": "code",
   "execution_count": 5,
   "id": "462a4e59",
   "metadata": {},
   "outputs": [
    {
     "name": "stdout",
     "output_type": "stream",
     "text": [
      "# Digital Aroma Smart Taste\n",
      "/mnt/c/Users/ali/Desktop/Digital_Aroma_Smart_Taste/README.md\n"
     ]
    }
   ],
   "source": [
    "print(title)\n",
    "print(readme_path)"
   ]
  },
  {
   "cell_type": "code",
   "execution_count": 6,
   "id": "5c06345e",
   "metadata": {},
   "outputs": [
    {
     "name": "stdout",
     "output_type": "stream",
     "text": [
      "[📁] Innovation_Hub\n",
      "    - 0_Phase1_Setup.ipynb\n",
      "    - desktop.ini\n",
      "    - Initialization_Phase.ipynb\n",
      "    [📁] .ipynb_checkpoints\n",
      "        - 0_Phase1_Setup-checkpoint.ipynb\n",
      "        - Initialization_Phase-checkpoint.ipynb\n",
      "    [📁] Digital_Aroma_Smart_Taste\n",
      "    [📁] Monitoring_Tools\n",
      "        - timeline.log\n",
      "        [📁] backups\n",
      "            - .~Initialization_Phase.ipynb_20250523_210759.bak\n",
      "            - .~Initialization_Phase.ipynb_20250523_211040.bak\n",
      "            - 0_Phase1_Setup.ipynb_20250523_221839.bak\n",
      "            - 0_Phase1_Setup.ipynb_20250523_221913.bak\n",
      "            - Changelog.md_20250523_215232.bak\n",
      "            - doc_Level1_File1.txt_20250523_214949.bak\n",
      "            - doc_Level1_File2.txt_20250523_214949.bak\n",
      "            - doc_Level1_File3.txt_20250523_214949.bak\n",
      "            - doc_Level1_File4.txt_20250523_214949.bak\n",
      "            - doc_Level1_File5.txt_20250523_214949.bak\n",
      "            - Initialization_Phase.ipynb_20250523_210759.bak\n",
      "            - Initialization_Phase.ipynb_20250523_211040.bak\n",
      "            - Initialization_Phase.ipynb_20250523_211159.bak\n",
      "            - Initialization_Phase.ipynb_20250523_211400.bak\n",
      "            - Initialization_Phase.ipynb_20250523_211559.bak\n",
      "            - Initialization_Phase.ipynb_20250523_211800.bak\n",
      "            - Initialization_Phase.ipynb_20250523_212000.bak\n",
      "            - Initialization_Phase.ipynb_20250523_212159.bak\n",
      "            - Initialization_Phase.ipynb_20250523_212400.bak\n",
      "            - Initialization_Phase.ipynb_20250523_212559.bak\n",
      "            - Initialization_Phase.ipynb_20250523_212800.bak\n",
      "            - Initialization_Phase.ipynb_20250523_212959.bak\n",
      "            - Initialization_Phase.ipynb_20250523_213200.bak\n",
      "            - Initialization_Phase.ipynb_20250523_213359.bak\n",
      "            - Initialization_Phase.ipynb_20250523_213600.bak\n",
      "            - Initialization_Phase.ipynb_20250523_213759.bak\n",
      "            - Initialization_Phase.ipynb_20250523_214000.bak\n",
      "            - Initialization_Phase.ipynb_20250523_214159.bak\n",
      "            - Initialization_Phase.ipynb_20250523_214400.bak\n",
      "            - Initialization_Phase.ipynb_20250523_214559.bak\n",
      "            - Initialization_Phase.ipynb_20250523_214800.bak\n",
      "            - Initialization_Phase.ipynb_20250523_214959.bak\n",
      "            - Initialization_Phase.ipynb_20250523_215200.bak\n",
      "            - Initialization_Phase.ipynb_20250523_215359.bak\n",
      "            - Initialization_Phase.ipynb_20250523_215600.bak\n",
      "            - Initialization_Phase.ipynb_20250523_215759.bak\n",
      "            - Initialization_Phase.ipynb_20250523_220000.bak\n",
      "            - Initialization_Phase.ipynb_20250523_220159.bak\n",
      "            - Initialization_Phase.ipynb_20250523_220400.bak\n",
      "            - Initialization_Phase.ipynb_20250523_220559.bak\n",
      "            - Initialization_Phase.ipynb_20250523_220800.bak\n",
      "            - Initialization_Phase.ipynb_20250523_220817.bak\n",
      "            - Initialization_Phase.ipynb_20250523_221600.bak\n",
      "            - Initialization_Phase.ipynb_20250523_221759.bak\n",
      "            - Initialization_Phase.ipynb_20250523_222000.bak\n",
      "            - Initialization_Phase.ipynb_20250523_222159.bak\n",
      "            - Initialization_Phase.ipynb_20250523_222400.bak\n",
      "            - Initialization_Phase.ipynb_20250523_222559.bak\n",
      "            - Initialization_Phase.ipynb_20250523_222759.bak\n",
      "            - Initialization_Phase.ipynb_20250523_222800.bak\n",
      "            - README.md_20250523_212518.bak\n",
      "            - README.md_20250523_214949.bak\n",
      "            - README.md_20250523_215232.bak\n",
      "            - setup_deep_structure.py_20250523_214542.bak\n",
      "            - Untitled.ipynb_20250523_212513.bak\n",
      "            - Untitled.ipynb_20250523_212713.bak\n",
      "            - Untitled.ipynb_20250523_212914.bak\n",
      "            - Untitled.ipynb_20250523_213113.bak\n",
      "            - Untitled.ipynb_20250523_214712.bak\n",
      "            - Untitled.ipynb_20250523_214713.bak\n",
      "            - Untitled.ipynb_20250523_215112.bak\n",
      "            - Untitled.ipynb_20250523_215113.bak\n",
      "            - Untitled.ipynb_20250523_215314.bak\n",
      "            - Untitled.ipynb_20250523_221714.bak\n",
      "            - UserGuide.md_20250523_215232.bak\n",
      "    [📁] Smart_Flavor_Farm3\n",
      "        [📁] configs\n",
      "            - config.yml\n",
      "        [📁] data\n",
      "            [📁] external\n",
      "            [📁] processed\n",
      "            [📁] raw\n",
      "        [📁] Documentation\n",
      "            - Changelog.md\n",
      "            - README.md\n",
      "            - UserGuide.md\n",
      "        [📁] Fast_Access\n",
      "            - filtered_dependencies.yml\n",
      "            - Installation_Instructions.md\n",
      "            - latest_json_runner.py\n",
      "            - README.md\n",
      "            [📁] Installation_JSONs\n",
      "        [📁] models\n",
      "            [📁] evaluation\n",
      "            [📁] training\n",
      "            [📁] weights\n",
      "        [📁] Monitoring_Tools\n",
      "            - monitor.py\n",
      "            - timeline.log\n",
      "            [📁] backups\n",
      "        [📁] scripts\n",
      "            - navigate_back.py\n",
      "            - run_code.py\n",
      "            - setup_structure_backup.py\n",
      "            [📁] maintenance\n",
      "        [📁] src\n",
      "            - main.py\n",
      "            [📁] modules\n",
      "            [📁] utils\n"
     ]
    }
   ],
   "source": [
    "import os\n",
    "\n",
    "base_path = \"/mnt/c/Users/ali/Desktop/Innovation_Hub\"\n",
    "\n",
    "def list_structure(path):\n",
    "    for root, dirs, files in os.walk(path):\n",
    "        level = root.replace(path, \"\").count(os.sep)\n",
    "        indent = \" \" * 4 * level\n",
    "        print(f\"{indent}[📁] {os.path.basename(root)}\")\n",
    "        sub_indent = \" \" * 4 * (level + 1)\n",
    "        for file in files:\n",
    "            print(f\"{sub_indent}- {file}\")\n",
    "\n",
    "list_structure(base_path)"
   ]
  },
  {
   "cell_type": "code",
   "execution_count": null,
   "id": "c368b8a3",
   "metadata": {},
   "outputs": [],
   "source": []
  }
 ],
 "metadata": {
  "kernelspec": {
   "display_name": "Python 3 (ipykernel)",
   "language": "python",
   "name": "python3"
  },
  "language_info": {
   "codemirror_mode": {
    "name": "ipython",
    "version": 3
   },
   "file_extension": ".py",
   "mimetype": "text/x-python",
   "name": "python",
   "nbconvert_exporter": "python",
   "pygments_lexer": "ipython3",
   "version": "3.12.3"
  }
 },
 "nbformat": 4,
 "nbformat_minor": 5
}
