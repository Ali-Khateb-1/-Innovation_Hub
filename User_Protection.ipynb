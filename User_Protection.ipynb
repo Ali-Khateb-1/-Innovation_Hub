{
 "cells": [
  {
   "cell_type": "code",
   "execution_count": null,
   "id": "5c855031",
   "metadata": {},
   "outputs": [],
   "source": [
    " import getpass\n",
    "\n",
    "# طلب كلمة المرور\n",
    "password = getpass.getpass(\"أدخل كلمة المرور\")\n",
    "\n",
    "# تحديد كلمة المرور الصحيحة (يجب أن تكون نصًا بين علامات اقتباس)\n",
    "correct_password = \"123@user\"  #   تأكد أنها محاطة بعلامات اقتباس\n",
    "\n",
    "# التحقق من صحة الإدخال\n",
    "if password == correct_password:\n",
    "    print(\"تم السماح بالوصول\")\n",
    "else:\n",
    "    print(\"تم رفض الوصول وسيتم إيقاف التنفيذ\")\n",
    "    exit()"
   ]
  },
  {
   "cell_type": "code",
   "execution_count": null,
   "id": "e9ff58ac",
   "metadata": {},
   "outputs": [],
   "source": []
  },
  {
   "cell_type": "code",
   "execution_count": null,
   "id": "81bb8663",
   "metadata": {},
   "outputs": [],
   "source": []
  }
 ],
 "metadata": {
  "kernelspec": {
   "display_name": "Python 3 (ipykernel)",
   "language": "python",
   "name": "python3"
  },
  "language_info": {
   "codemirror_mode": {
    "name": "ipython",
    "version": 3
   },
   "file_extension": ".py",
   "mimetype": "text/x-python",
   "name": "python",
   "nbconvert_exporter": "python",
   "pygments_lexer": "ipython3",
   "version": "3.12.3"
  }
 },
 "nbformat": 4,
 "nbformat_minor": 5
}
