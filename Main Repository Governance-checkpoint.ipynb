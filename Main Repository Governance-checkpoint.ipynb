{
 "cells": [
  {
   "cell_type": "code",
   "execution_count": 1,
   "id": "69e7a4d4",
   "metadata": {},
   "outputs": [
    {
     "name": "stdout",
     "output_type": "stream",
     "text": [
      "تم نقل الملف إلى جذر المستودع الرئيسي بنجاح داخل WSL!\n"
     ]
    }
   ],
   "source": [
    "import shutil\n",
    "\n",
    "# تحديد المسار الأصلي والوجهة الجديدة داخل بيئة WSL\n",
    "source_path = \"/mnt/c/Users/ali/Desktop/Innovation_Hub_New - Copy/index.html\"\n",
    "destination_path = \"/mnt/c/Users/ali/Desktop/Innovation_Hub_New/index.html\"\n",
    "\n",
    "# نقل الملف إلى جذر المستودع الرئيسي\n",
    "shutil.move(source_path, destination_path)\n",
    "\n",
    "print(\"تم نقل الملف إلى جذر المستودع الرئيسي بنجاح داخل WSL!\")"
   ]
  },
  {
   "cell_type": "code",
   "execution_count": 2,
   "id": "15748475",
   "metadata": {},
   "outputs": [],
   "source": [
    "!cd /mnt/c/Users/ali/Desktop/Innovation_Hub_New"
   ]
  },
  {
   "cell_type": "code",
   "execution_count": 3,
   "id": "01bd5ed9",
   "metadata": {},
   "outputs": [
    {
     "name": "stdout",
     "output_type": "stream",
     "text": [
      "On branch main\r\n",
      "nothing to commit, working tree clean\r\n"
     ]
    }
   ],
   "source": [
    "!git add .\n",
    "!git commit -m \"Synchronized submodules from Jupyter Notebook\"\n"
   ]
  },
  {
   "cell_type": "code",
   "execution_count": 4,
   "id": "52546ef2",
   "metadata": {},
   "outputs": [
    {
     "data": {
      "text/plain": [
       "True"
      ]
     },
     "execution_count": 4,
     "metadata": {},
     "output_type": "execute_result"
    },
    {
     "name": "stderr",
     "output_type": "stream",
     "text": [
      "[14849:14849:0527/170718.233309:ERROR:ui/ozone/platform/x11/ozone_platform_x11.cc:249] Missing X server or $DISPLAY\n",
      "[14849:14849:0527/170718.234614:ERROR:ui/aura/env.cc:257] The platform failed to initialize.  Exiting.\n"
     ]
    }
   ],
   "source": [
    "import webbrowser\n",
    "\n",
    "# مسار الصفحة داخل Windows عبر WSL\n",
    "html_path = \"file:///mnt/c/Users/ali/Desktop/Innovation_Hub_New/index.html\"\n",
    "\n",
    "# فتح الصفحة تلقائيًا في المتصفح\n",
    "webbrowser.open(html_path)"
   ]
  },
  {
   "cell_type": "code",
   "execution_count": 5,
   "id": "b78f44c7",
   "metadata": {},
   "outputs": [
    {
     "data": {
      "text/plain": [
       "True"
      ]
     },
     "execution_count": 5,
     "metadata": {},
     "output_type": "execute_result"
    },
    {
     "name": "stderr",
     "output_type": "stream",
     "text": [
      "[15008:15008:0527/171026.881817:ERROR:ui/ozone/platform/x11/ozone_platform_x11.cc:249] Missing X server or $DISPLAY\n",
      "[15008:15008:0527/171026.881880:ERROR:ui/aura/env.cc:257] The platform failed to initialize.  Exiting.\n"
     ]
    }
   ],
   "source": [
    "import webbrowser\n",
    "\n",
    "# ضبط مسار الملف ليتوافق مع WSL و Windows\n",
    "html_path = \"file:///mnt/c/Users/ali/Desktop/Innovation_Hub_New/index.html\"\n",
    "\n",
    "# فتح الصفحة تلقائيًا\n",
    "webbrowser.open(html_path)"
   ]
  },
  {
   "cell_type": "code",
   "execution_count": 6,
   "id": "fb541e13",
   "metadata": {},
   "outputs": [
    {
     "name": "stdout",
     "output_type": "stream",
     "text": [
      "✔️ تمت تهيئة الأرشيف بنجاح، وتم تحديث ملف requirements.txt!\n"
     ]
    }
   ],
   "source": [
    "import os\n",
    "\n",
    "# تعريف المسار الرئيسي للمشروع\n",
    "base_path = \"/mnt/c/Users/ali/Desktop/Innovation_Hub_New/archive\"\n",
    "\n",
    "# إنشاء المجلدات وفق الهيكلية المتفق عليها\n",
    "folders = [\"user_testing\", \"models\", \"analysis\", \"site\"]\n",
    "\n",
    "for folder in folders:\n",
    "    os.makedirs(os.path.join(base_path, folder), exist_ok=True)\n",
    "\n",
    "# إنشاء ملف requirements.txt داخل مجلد site\n",
    "requirements_path = os.path.join(base_path, \"site\", \"requirements.txt\")\n",
    "\n",
    "# إضافة المعلومات المطلوبة إلى requirements.txt\n",
    "with open(requirements_path, \"w\") as req_file:\n",
    "    req_file.write(\"# متطلبات تشغيل الموقع داخل WSL\\n\")\n",
    "    req_file.write(\"xdg-utils  # مثبت بالفعل على النظام (1.1.3-4.1ubuntu3)\\n\")\n",
    "\n",
    "# تأكيد نجاح العملية\n",
    "print(\"✔️ تمت تهيئة الأرشيف بنجاح، وتم تحديث ملف requirements.txt!\")"
   ]
  },
  {
   "cell_type": "code",
   "execution_count": 7,
   "id": "ef8b721f",
   "metadata": {},
   "outputs": [
    {
     "data": {
      "text/plain": [
       "True"
      ]
     },
     "execution_count": 7,
     "metadata": {},
     "output_type": "execute_result"
    },
    {
     "name": "stderr",
     "output_type": "stream",
     "text": [
      "[15274:15274:0527/173409.630614:ERROR:ui/ozone/platform/x11/ozone_platform_x11.cc:249] Missing X server or $DISPLAY\n",
      "[15274:15274:0527/173409.633242:ERROR:ui/aura/env.cc:257] The platform failed to initialize.  Exiting.\n"
     ]
    }
   ],
   "source": [
    "import webbrowser\n",
    "\n",
    "# تحديد المسار الصحيح للملف داخل Windows عبر WSL\n",
    "html_path = \"file:///mnt/c/Users/ali/Desktop/Innovation_Hub_New/index.html\"\n",
    "\n",
    "# فتح الصفحة داخل المتصفح الافتراضي\n",
    "webbrowser.open(html_path)"
   ]
  },
  {
   "cell_type": "code",
   "execution_count": 8,
   "id": "bc7c92b9",
   "metadata": {},
   "outputs": [
    {
     "data": {
      "text/plain": [
       "True"
      ]
     },
     "execution_count": 8,
     "metadata": {},
     "output_type": "execute_result"
    },
    {
     "name": "stderr",
     "output_type": "stream",
     "text": [
      "[15427:15427:0527/173516.821380:ERROR:ui/ozone/platform/x11/ozone_platform_x11.cc:249] Missing X server or $DISPLAY\n",
      "[15427:15427:0527/173516.821422:ERROR:ui/aura/env.cc:257] The platform failed to initialize.  Exiting.\n"
     ]
    }
   ],
   "source": [
    "import webbrowser\n",
    "webbrowser.open(\"file:///mnt/c/Users/ali/Desktop/Innovation_Hub_New/index.html\")"
   ]
  },
  {
   "cell_type": "code",
   "execution_count": null,
   "id": "9e789730",
   "metadata": {},
   "outputs": [],
   "source": []
  }
 ],
 "metadata": {
  "kernelspec": {
   "display_name": "Python 3 (ipykernel)",
   "language": "python",
   "name": "python3"
  },
  "language_info": {
   "codemirror_mode": {
    "name": "ipython",
    "version": 3
   },
   "file_extension": ".py",
   "mimetype": "text/x-python",
   "name": "python",
   "nbconvert_exporter": "python",
   "pygments_lexer": "ipython3",
   "version": "3.12.3"
  }
 },
 "nbformat": 4,
 "nbformat_minor": 5
}
