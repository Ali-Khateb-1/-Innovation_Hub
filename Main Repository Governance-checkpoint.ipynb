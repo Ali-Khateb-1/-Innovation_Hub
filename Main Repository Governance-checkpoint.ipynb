{
 "cells": [
  {
   "cell_type": "code",
   "execution_count": 1,
   "id": "c5710afa",
   "metadata": {},
   "outputs": [
    {
     "name": "stdout",
     "output_type": "stream",
     "text": [
      "تم نقل الملف إلى جذر المستودع الرئيسي بنجاح داخل WSL!\n"
     ]
    }
   ],
   "source": [
    "import shutil\n",
    "\n",
    "# تحديد المسار الأصلي والوجهة الجديدة داخل بيئة WSL\n",
    "source_path = \"/mnt/c/Users/ali/Desktop/Innovation_Hub_New - Copy/index.html\"\n",
    "destination_path = \"/mnt/c/Users/ali/Desktop/Innovation_Hub_New/index.html\"\n",
    "\n",
    "# نقل الملف إلى جذر المستودع الرئيسي\n",
    "shutil.move(source_path, destination_path)\n",
    "\n",
    "print(\"تم نقل الملف إلى جذر المستودع الرئيسي بنجاح داخل WSL!\")"
   ]
  },
  {
   "cell_type": "code",
   "execution_count": 2,
   "id": "c96f6a91",
   "metadata": {},
   "outputs": [],
   "source": [
    "!cd /mnt/c/Users/ali/Desktop/Innovation_Hub_New"
   ]
  },
  {
   "cell_type": "code",
   "execution_count": 3,
   "id": "6b7975e0",
   "metadata": {},
   "outputs": [
    {
     "name": "stdout",
     "output_type": "stream",
     "text": [
      "On branch main\r\n",
      "nothing to commit, working tree clean\r\n"
     ]
    }
   ],
   "source": [
    "!git add .\n",
    "!git commit -m \"Synchronized submodules from Jupyter Notebook\"\n"
   ]
  },
  {
   "cell_type": "code",
   "execution_count": 4,
   "id": "c1929d21",
   "metadata": {},
   "outputs": [
    {
     "data": {
      "text/plain": [
       "True"
      ]
     },
     "execution_count": 4,
     "metadata": {},
     "output_type": "execute_result"
    },
    {
     "name": "stderr",
     "output_type": "stream",
     "text": [
      "[14849:14849:0527/170718.233309:ERROR:ui/ozone/platform/x11/ozone_platform_x11.cc:249] Missing X server or $DISPLAY\n",
      "[14849:14849:0527/170718.234614:ERROR:ui/aura/env.cc:257] The platform failed to initialize.  Exiting.\n"
     ]
    }
   ],
   "source": [
    "import webbrowser\n",
    "\n",
    "# مسار الصفحة داخل Windows عبر WSL\n",
    "html_path = \"file:///mnt/c/Users/ali/Desktop/Innovation_Hub_New/index.html\"\n",
    "\n",
    "# فتح الصفحة تلقائيًا في المتصفح\n",
    "webbrowser.open(html_path)"
   ]
  },
  {
   "cell_type": "code",
   "execution_count": 5,
   "id": "e2084b11",
   "metadata": {},
   "outputs": [
    {
     "data": {
      "text/plain": [
       "True"
      ]
     },
     "execution_count": 5,
     "metadata": {},
     "output_type": "execute_result"
    },
    {
     "name": "stderr",
     "output_type": "stream",
     "text": [
      "[15008:15008:0527/171026.881817:ERROR:ui/ozone/platform/x11/ozone_platform_x11.cc:249] Missing X server or $DISPLAY\n",
      "[15008:15008:0527/171026.881880:ERROR:ui/aura/env.cc:257] The platform failed to initialize.  Exiting.\n"
     ]
    }
   ],
   "source": [
    "import webbrowser\n",
    "\n",
    "# ضبط مسار الملف ليتوافق مع WSL و Windows\n",
    "html_path = \"file:///mnt/c/Users/ali/Desktop/Innovation_Hub_New/index.html\"\n",
    "\n",
    "# فتح الصفحة تلقائيًا\n",
    "webbrowser.open(html_path)"
   ]
  },
  {
   "cell_type": "code",
   "execution_count": 6,
   "id": "e374da77",
   "metadata": {},
   "outputs": [
    {
     "name": "stdout",
     "output_type": "stream",
     "text": [
      "✔️ تمت تهيئة الأرشيف بنجاح، وتم تحديث ملف requirements.txt!\n"
     ]
    }
   ],
   "source": [
    "import os\n",
    "\n",
    "# تعريف المسار الرئيسي للمشروع\n",
    "base_path = \"/mnt/c/Users/ali/Desktop/Innovation_Hub_New/archive\"\n",
    "\n",
    "# إنشاء المجلدات وفق الهيكلية المتفق عليها\n",
    "folders = [\"user_testing\", \"models\", \"analysis\", \"site\"]\n",
    "\n",
    "for folder in folders:\n",
    "    os.makedirs(os.path.join(base_path, folder), exist_ok=True)\n",
    "\n",
    "# إنشاء ملف requirements.txt داخل مجلد site\n",
    "requirements_path = os.path.join(base_path, \"site\", \"requirements.txt\")\n",
    "\n",
    "# إضافة المعلومات المطلوبة إلى requirements.txt\n",
    "with open(requirements_path, \"w\") as req_file:\n",
    "    req_file.write(\"# متطلبات تشغيل الموقع داخل WSL\\n\")\n",
    "    req_file.write(\"xdg-utils  # مثبت بالفعل على النظام (1.1.3-4.1ubuntu3)\\n\")\n",
    "\n",
    "# تأكيد نجاح العملية\n",
    "print(\"✔️ تمت تهيئة الأرشيف بنجاح، وتم تحديث ملف requirements.txt!\")"
   ]
  },
  {
   "cell_type": "code",
   "execution_count": 7,
   "id": "78b7c477",
   "metadata": {},
   "outputs": [
    {
     "data": {
      "text/plain": [
       "True"
      ]
     },
     "execution_count": 7,
     "metadata": {},
     "output_type": "execute_result"
    },
    {
     "name": "stderr",
     "output_type": "stream",
     "text": [
      "[15274:15274:0527/173409.630614:ERROR:ui/ozone/platform/x11/ozone_platform_x11.cc:249] Missing X server or $DISPLAY\n",
      "[15274:15274:0527/173409.633242:ERROR:ui/aura/env.cc:257] The platform failed to initialize.  Exiting.\n"
     ]
    }
   ],
   "source": [
    "import webbrowser\n",
    "\n",
    "# تحديد المسار الصحيح للملف داخل Windows عبر WSL\n",
    "html_path = \"file:///mnt/c/Users/ali/Desktop/Innovation_Hub_New/index.html\"\n",
    "\n",
    "# فتح الصفحة داخل المتصفح الافتراضي\n",
    "webbrowser.open(html_path)"
   ]
  },
  {
   "cell_type": "code",
   "execution_count": 8,
   "id": "a6620dac",
   "metadata": {},
   "outputs": [
    {
     "data": {
      "text/plain": [
       "True"
      ]
     },
     "execution_count": 8,
     "metadata": {},
     "output_type": "execute_result"
    },
    {
     "name": "stderr",
     "output_type": "stream",
     "text": [
      "[15427:15427:0527/173516.821380:ERROR:ui/ozone/platform/x11/ozone_platform_x11.cc:249] Missing X server or $DISPLAY\n",
      "[15427:15427:0527/173516.821422:ERROR:ui/aura/env.cc:257] The platform failed to initialize.  Exiting.\n"
     ]
    }
   ],
   "source": [
    "import webbrowser\n",
    "webbrowser.open(\"file:///mnt/c/Users/ali/Desktop/Innovation_Hub_New/index.html\")"
   ]
  },
  {
   "cell_type": "code",
   "execution_count": 10,
   "id": "cf6cae37",
   "metadata": {},
   "outputs": [],
   "source": [
    "with open(\"/mnt/c/Users/ali/Desktop/Innovation_Hub_New/archive/site/requirements.txt\", \"w\") as file:\n",
    "    file.write(\"\"\"# متطلبات تشغيل الموقع داخل WSL\n",
    "xdg-utils  # مثبت بالفعل على النظام (1.1.3-4.1ubuntu3)\n",
    "\n",
    "# مكتبات تشغيل النماذج الذكية على الهاتف\n",
    "torch\n",
    "torchvision\n",
    "torchaudio\n",
    "tensorflow\n",
    "tensorflow-lite\n",
    "\"\"\")"
   ]
  },
  {
   "cell_type": "code",
   "execution_count": 11,
   "id": "51d518a3",
   "metadata": {},
   "outputs": [],
   "source": [
    "with open(\"/mnt/c/Users/ali/Desktop/Innovation_Hub_New/archive/site/README.md\", \"w\") as file:\n",
    "    file.write(\"\"\"# Innovation Hub New  \n",
    "موقع مصمم لاستضافة المشاريع الديناميكية باستخدام GitHub Pages وربط المستودعات الفرعية لتنفيذ النماذج الذكية وتحليل البيانات.  \n",
    "\n",
    "## 🔹 الأهداف:  \n",
    "- تبسيط إدارة المستودعات الفرعية.  \n",
    "- دعم تشغيل الأكواد الذكية داخل بيئات مختلفة.  \n",
    "- توفير واجهة مرنة لتشغيل النماذج الذكية داخل التطبيقات.  \n",
    "\n",
    "## 🔹 طريقة العمل:  \n",
    "- تشغيل `index.html` كواجهة رئيسية للموقع.  \n",
    "- الاتصال بالمستودعات الفرعية للحصول على البيانات وتنفيذ الأكواد في الخلفية.  \n",
    "- دعم تشغيل الموقع عبر `WSL` وتهيئة بيئة التطوير المناسبة.  \n",
    "\n",
    "## 🔹 المتطلبات:  \n",
    "- `xdg-utils` (للتحكم في تشغيل الملفات داخل WSL).  \n",
    "- `torch`, `tensorflow` (لإدارة النماذج الذكية).  \n",
    "\"\"\")"
   ]
  },
  {
   "cell_type": "code",
   "execution_count": 12,
   "id": "3f0a98e1",
   "metadata": {},
   "outputs": [],
   "source": [
    "import os\n",
    "\n",
    "workflow_path = \"/mnt/c/Users/ali/Desktop/Innovation_Hub_New/.github/workflows\"\n",
    "os.makedirs(workflow_path, exist_ok=True)"
   ]
  },
  {
   "cell_type": "code",
   "execution_count": 13,
   "id": "0df8b028",
   "metadata": {},
   "outputs": [
    {
     "name": "stdout",
     "output_type": "stream",
     "text": [
      "✅ تم إنشاء /mnt/c/Users/ali/Desktop/Innovation_Hub_New/.github/workflows/gh-pages.yml بنجاح!\n"
     ]
    }
   ],
   "source": [
    "workflow_file = \"/mnt/c/Users/ali/Desktop/Innovation_Hub_New/.github/workflows/gh-pages.yml\"\n",
    "\n",
    "workflow_content = \"\"\"name: Deploy to GitHub Pages\n",
    "on:\n",
    "  push:\n",
    "    branches:\n",
    "      - main\n",
    "\n",
    "permissions:\n",
    "  contents: read\n",
    "  pages: write\n",
    "  id-token: write\n",
    "\n",
    "jobs:\n",
    "  deploy:\n",
    "    runs-on: ubuntu-latest\n",
    "    steps:\n",
    "      - name: Checkout Repository\n",
    "        uses: actions/checkout@v3\n",
    "\n",
    "      - name: Setup Pages\n",
    "        uses: actions/configure-pages@v3\n",
    "\n",
    "      - name: Build and Upload\n",
    "        uses: actions/upload-pages-artifact@v2\n",
    "\n",
    "      - name: Deploy Site\n",
    "        uses: actions/deploy-pages@v2\n",
    "\"\"\"\n",
    "\n",
    "# حفظ الملف ثم طباعة تأكيد\n",
    "with open(workflow_file, \"w\") as file:\n",
    "    file.write(workflow_content)\n",
    "\n",
    "print(f\"✅ تم إنشاء {workflow_file} بنجاح!\")"
   ]
  },
  {
   "cell_type": "code",
   "execution_count": 14,
   "id": "c3febc09",
   "metadata": {},
   "outputs": [
    {
     "name": "stdout",
     "output_type": "stream",
     "text": [
      "# متطلبات تشغيل الموقع داخل WSL\n",
      "xdg-utils  # مثبت بالفعل على النظام (1.1.3-4.1ubuntu3)\n",
      "\n",
      "# مكتبات تشغيل النماذج الذكية على الهاتف\n",
      "torch\n",
      "torchvision\n",
      "torchaudio\n",
      "tensorflow\n",
      "tensorflow-lite\n",
      "\n",
      "name: Deploy to GitHub Pages\n",
      "on:\n",
      "  push:\n",
      "    branches:\n",
      "      - main\n",
      "\n",
      "permissions:\n",
      "  contents: read\n",
      "  pages: write\n",
      "  id-token: write\n",
      "\n",
      "jobs:\n",
      "  deploy:\n",
      "    runs-on: ubuntu-latest\n",
      "    steps:\n",
      "      - name: Checkout Repository\n",
      "        uses: actions/checkout@v3\n",
      "\n",
      "      - name: Setup Pages\n",
      "        uses: actions/configure-pages@v3\n",
      "\n",
      "      - name: Build and Upload\n",
      "        uses: actions/upload-pages-artifact@v2\n",
      "\n",
      "      - name: Deploy Site\n",
      "        uses: actions/deploy-pages@v2\n",
      "\n"
     ]
    }
   ],
   "source": [
    "with open(\"/mnt/c/Users/ali/Desktop/Innovation_Hub_New/archive/site/requirements.txt\", \"r\") as file:\n",
    "    print(file.read())\n",
    "\n",
    "with open(\"/mnt/c/Users/ali/Desktop/Innovation_Hub_New/.github/workflows/gh-pages.yml\", \"r\") as file:\n",
    "    print(file.read())"
   ]
  },
  {
   "cell_type": "code",
   "execution_count": 15,
   "id": "51a83c71",
   "metadata": {},
   "outputs": [
    {
     "name": "stdout",
     "output_type": "stream",
     "text": [
      "✅ تم تحديث /mnt/c/Users/ali/Desktop/Innovation_Hub_New/archive/site/README.md بنجاح!\n"
     ]
    }
   ],
   "source": [
    "readme_file = \"/mnt/c/Users/ali/Desktop/Innovation_Hub_New/archive/site/README.md\"\n",
    "\n",
    "readme_content = \"\"\"# Innovation Hub New  \n",
    "موقع مصمم لاستضافة المشاريع الديناميكية باستخدام GitHub Pages وربط المستودعات الفرعية لتنفيذ النماذج الذكية وتحليل البيانات.  \n",
    "\n",
    "## 🔹 الأهداف:  \n",
    "- تبسيط إدارة المستودعات الفرعية.  \n",
    "- دعم تشغيل الأكواد الذكية داخل بيئات مختلفة.  \n",
    "- توفير واجهة مرنة لتشغيل النماذج الذكية داخل التطبيقات.  \n",
    "\n",
    "## 🔹 طريقة العمل:  \n",
    "- تشغيل `index.html` كواجهة رئيسية للموقع.  \n",
    "- الاتصال بالمستودعات الفرعية للحصول على البيانات وتنفيذ الأكواد في الخلفية.  \n",
    "- دعم تشغيل الموقع عبر `WSL` وتهيئة بيئة التطوير المناسبة.  \n",
    "\n",
    "## 🔹 المتطلبات:  \n",
    "- `xdg-utils` (للتحكم في تشغيل الملفات داخل WSL).  \n",
    "- `torch`, `tensorflow` (لإدارة النماذج الذكية).  \n",
    "- **`requirements.txt`**: يحتوي على مكتبات التشغيل المطلوبة لضمان عمل الموقع بسلاسة، ويتم تحديثه وفقًا لاحتياجات المشروع.  \n",
    "- **`.github/workflows/gh-pages.yml`**: ملف `GitHub Actions` المسؤول عن نشر الموقع تلقائيًا، مما يسمح بدمج المستودعات الفرعية وتنفيذ الأكواد الذكية أثناء النشر.  \n",
    "\n",
    "## 🔹 إدارة النماذج المدربة  \n",
    "- يتم الاحتفاظ بالنماذج داخل المستودعات الفرعية لضمان التنظيم والاستقلالية.  \n",
    "- يمكن دمج النماذج المدربة داخل الموقع مباشرةً أو استدعاؤها أثناء التشغيل لتوفير تجربة ديناميكية.  \n",
    "\"\"\"\n",
    "\n",
    "with open(readme_file, \"w\") as file:\n",
    "    file.write(readme_content)\n",
    "\n",
    "print(f\"✅ تم تحديث {readme_file} بنجاح!\")"
   ]
  },
  {
   "cell_type": "code",
   "execution_count": 16,
   "id": "66eaead1",
   "metadata": {},
   "outputs": [
    {
     "name": "stdout",
     "output_type": "stream",
     "text": [
      "[main 0f7756f] رفع README.md مع التعديلات الجديدة\n",
      " 1 file changed, 22 insertions(+)\n",
      " create mode 100644 archive/site/README.md\n",
      "Enumerating objects: 8, done.\n",
      "Counting objects: 100% (8/8), done.\n",
      "Delta compression using up to 6 threads\n",
      "Compressing objects: 100% (4/4), done.\n",
      "Writing objects: 100% (5/5), 1.18 KiB | 75.00 KiB/s, done.\n",
      "Total 5 (delta 1), reused 0 (delta 0), pack-reused 0\n",
      "remote: Resolving deltas: 100% (1/1), completed with 1 local object.\u001b[K\n",
      "To https://github.com/Ali-Khateb-1/-Innovation_Hub.git\n",
      "   86a1da8..0f7756f  main -> main\n"
     ]
    }
   ],
   "source": [
    "!cd /mnt/c/Users/ali/Desktop/Innovation_Hub_New && git add archive/site/README.md && git commit -m \"رفع README.md مع التعديلات الجديدة\" && git push origin main"
   ]
  },
  {
   "cell_type": "code",
   "execution_count": 17,
   "id": "682c2639",
   "metadata": {},
   "outputs": [
    {
     "name": "stdout",
     "output_type": "stream",
     "text": [
      "[main 920a1ec] Trigger GitHub Pages deployment\n",
      "Enumerating objects: 1, done.\n",
      "Counting objects: 100% (1/1), done.\n",
      "Writing objects: 100% (1/1), 209 bytes | 41.00 KiB/s, done.\n",
      "Total 1 (delta 0), reused 0 (delta 0), pack-reused 0\n",
      "To https://github.com/Ali-Khateb-1/-Innovation_Hub.git\n",
      "   0f7756f..920a1ec  main -> main\n"
     ]
    }
   ],
   "source": [
    " !cd /mnt/c/Users/ali/Desktop/Innovation_Hub_New && git commit --allow-empty -m \"Trigger GitHub Pages deployment\" && git push origin main"
   ]
  },
  {
   "cell_type": "code",
   "execution_count": 18,
   "id": "b6451fc2",
   "metadata": {},
   "outputs": [
    {
     "name": "stdout",
     "output_type": "stream",
     "text": [
      "[main 4788762] Trigger GitHub Pages deployment\n",
      "Enumerating objects: 1, done.\n",
      "Counting objects: 100% (1/1), done.\n",
      "Writing objects: 100% (1/1), 208 bytes | 34.00 KiB/s, done.\n",
      "Total 1 (delta 0), reused 0 (delta 0), pack-reused 0\n",
      "To https://github.com/Ali-Khateb-1/-Innovation_Hub.git\n",
      "   920a1ec..4788762  main -> main\n"
     ]
    }
   ],
   "source": [
    "!cd /mnt/c/Users/ali/Desktop/Innovation_Hub_New && git commit --allow-empty -m \"Trigger GitHub Pages deployment\" && git push origin main"
   ]
  },
  {
   "cell_type": "code",
   "execution_count": 19,
   "id": "aea7b7bd",
   "metadata": {},
   "outputs": [
    {
     "name": "stdout",
     "output_type": "stream",
     "text": [
      "[main 9baa809] Trigger GitHub Pages deployment\n",
      "Enumerating objects: 1, done.\n",
      "Counting objects: 100% (1/1), done.\n",
      "Writing objects: 100% (1/1), 211 bytes | 21.00 KiB/s, done.\n",
      "Total 1 (delta 0), reused 0 (delta 0), pack-reused 0\n",
      "To https://github.com/Ali-Khateb-1/-Innovation_Hub.git\n",
      "   4788762..9baa809  main -> main\n"
     ]
    }
   ],
   "source": [
    "!cd /mnt/c/Users/ali/Desktop/Innovation_Hub_New && git commit --allow-empty -m \"Trigger GitHub Pages deployment\" && git push origin main\n"
   ]
  },
  {
   "cell_type": "code",
   "execution_count": 20,
   "id": "079d1ff8",
   "metadata": {},
   "outputs": [],
   "source": [
    "with open(\"index.html\", \"w\") as f:\n",
    "    f.write('<meta http-equiv=\"refresh\" content=\"0;url=https://Ali-Khateb-1.github.io/Innovation_Hub_New/\" />')\n",
    "    "
   ]
  },
  {
   "cell_type": "code",
   "execution_count": 21,
   "id": "b87ece12",
   "metadata": {},
   "outputs": [
    {
     "name": "stdout",
     "output_type": "stream",
     "text": [
      "[main adb2958] Added redirect meta refresh\n",
      " 1 file changed, 1 insertion(+), 107 deletions(-)\n",
      "Enumerating objects: 5, done.\n",
      "Counting objects: 100% (5/5), done.\n",
      "Delta compression using up to 6 threads\n",
      "Compressing objects: 100% (3/3), done.\n",
      "Writing objects: 100% (3/3), 356 bytes | 50.00 KiB/s, done.\n",
      "Total 3 (delta 1), reused 0 (delta 0), pack-reused 0\n",
      "remote: Resolving deltas: 100% (1/1), completed with 1 local object.\u001b[K\n",
      "To https://github.com/Ali-Khateb-1/-Innovation_Hub.git\n",
      "   2d4d50a..adb2958  main -> main\n"
     ]
    }
   ],
   "source": [
    "!git add index.html\n",
    "!git commit -m \"Added redirect meta refresh\"\n",
    "!git push origin main"
   ]
  },
  {
   "cell_type": "code",
   "execution_count": 22,
   "id": "c1877802",
   "metadata": {},
   "outputs": [
    {
     "ename": "SyntaxError",
     "evalue": "(unicode error) 'unicodeescape' codec can't decode bytes in position 2-3: truncated \\UXXXXXXXX escape (4067714795.py, line 1)",
     "output_type": "error",
     "traceback": [
      "\u001b[0;36m  Cell \u001b[0;32mIn[22], line 1\u001b[0;36m\u001b[0m\n\u001b[0;31m    cd \"C:\\Users\\ali\\Desktop\\Innovation_Hub_New\"\u001b[0m\n\u001b[0m       ^\u001b[0m\n\u001b[0;31mSyntaxError\u001b[0m\u001b[0;31m:\u001b[0m (unicode error) 'unicodeescape' codec can't decode bytes in position 2-3: truncated \\UXXXXXXXX escape\n"
     ]
    }
   ],
   "source": [
    "cd \"C:\\Users\\ali\\Desktop\\Innovation_Hub_New\"\n",
    "git add index.html\n",
    "git commit -m \"Updated index.html\"\n",
    "git push origin main"
   ]
  },
  {
   "cell_type": "code",
   "execution_count": 23,
   "id": "fd15bead",
   "metadata": {},
   "outputs": [],
   "source": [
    "!cd /mnt/c/Users/ali/Desktop/Innovation_Hub_New"
   ]
  },
  {
   "cell_type": "code",
   "execution_count": null,
   "id": "94b925fe",
   "metadata": {},
   "outputs": [
    {
     "name": "stdout",
     "output_type": "stream",
     "text": [
      "On branch main\r\n",
      "Changes not staged for commit:\r\n",
      "  (use \"git add <file>...\" to update what will be committed)\r\n",
      "  (use \"git restore <file>...\" to discard changes in working directory)\r\n",
      "\t\u001b[31mmodified:   Main Repository Governance-checkpoint.ipynb\u001b[m\r\n",
      "\t\u001b[31mmodified:   archive/site/requirements.txt\u001b[m\r\n",
      "\r\n",
      "Untracked files:\r\n",
      "  (use \"git add <file>...\" to include in what will be committed)\r\n",
      "\t\u001b[31m.github/\u001b[m\r\n",
      "\r\n",
      "no changes added to commit (use \"git add\" and/or \"git commit -a\")\r\n"
     ]
    }
   ],
   "source": [
    "!git add index.html\n",
    "!git commit -m \"Updated index.html\"\n",
    "!git push origin main"
   ]
  },
  {
   "cell_type": "code",
   "execution_count": null,
   "id": "0f5039a3",
   "metadata": {},
   "outputs": [],
   "source": []
  }
 ],
 "metadata": {
  "kernelspec": {
   "display_name": "Python 3 (ipykernel)",
   "language": "python",
   "name": "python3"
  },
  "language_info": {
   "codemirror_mode": {
    "name": "ipython",
    "version": 3
   },
   "file_extension": ".py",
   "mimetype": "text/x-python",
   "name": "python",
   "nbconvert_exporter": "python",
   "pygments_lexer": "ipython3",
   "version": "3.12.3"
  }
 },
 "nbformat": 4,
 "nbformat_minor": 5
}
