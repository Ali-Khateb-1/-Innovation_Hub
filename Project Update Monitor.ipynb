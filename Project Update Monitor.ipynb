{
 "cells": [
  {
   "cell_type": "code",
   "execution_count": 6,
   "id": "dc698c85",
   "metadata": {},
   "outputs": [
    {
     "name": "stdout",
     "output_type": "stream",
     "text": [
      "🔍 يتم الآن مراقبة `requirements.txt`...\n",
      "^C\n",
      "🛑 تم إيقاف المراقبة.\n"
     ]
    }
   ],
   "source": [
    "!python /mnt/c/Users/ali/Desktop/Innovation_Hub_New/Full_Stack_Framework/Flower_Classification_Foundation_V1/watch_requirements.py"
   ]
  },
  {
   "cell_type": "code",
   "execution_count": 8,
   "id": "a73b2d57",
   "metadata": {},
   "outputs": [
    {
     "name": "stdout",
     "output_type": "stream",
     "text": [
      "🔍 يتم الآن مراقبة `requirements.txt`...\n",
      "^C\n",
      "🛑 تم إيقاف المراقبة.\n"
     ]
    }
   ],
   "source": [
    " !python /mnt/c/Users/ali/Desktop/Innovation_Hub_New/Full_Stack_Framework/Flower_Classification_Foundation_V1/watch_requirements.py"
   ]
  },
  {
   "cell_type": "code",
   "execution_count": 11,
   "id": "ba8192ab",
   "metadata": {},
   "outputs": [
    {
     "name": "stdout",
     "output_type": "stream",
     "text": [
      "🔍 يتم الآن مراقبة `requirements.txt`...\n",
      "^C\n",
      "🛑 تم إيقاف المراقبة.\n"
     ]
    }
   ],
   "source": [
    " !python /mnt/c/Users/ali/Desktop/Innovation_Hub_New/Full_Stack_Framework/Flower_Classification_Foundation_V1/watch_requirements.py"
   ]
  },
  {
   "cell_type": "code",
   "execution_count": null,
   "id": "a5dfc771",
   "metadata": {},
   "outputs": [
    {
     "name": "stdout",
     "output_type": "stream",
     "text": [
      "🔍 يتم الآن مراقبة `requirements.txt`...\r\n"
     ]
    }
   ],
   "source": [
    "!python /mnt/c/Users/ali/Desktop/Innovation_Hub_New/Full_Stack_Framework/Flower_Classification_Foundation_V1/watch_requirements.py"
   ]
  },
  {
   "cell_type": "code",
   "execution_count": null,
   "id": "f9593296",
   "metadata": {},
   "outputs": [],
   "source": [
    "!python /mnt/c/Users/ali/Desktop/Innovation_Hub_New/Full_Stack_Framework/Flower_Classification_Foundation_V1/watch_requirements.py"
   ]
  },
  {
   "cell_type": "code",
   "execution_count": 1,
   "id": "c117fa0d",
   "metadata": {},
   "outputs": [
    {
     "name": "stdout",
     "output_type": "stream",
     "text": [
      "🔍 يتم الآن مراقبة `requirements.txt`...\n",
      "^C\n",
      "🛑 تم إيقاف المراقبة.\n"
     ]
    }
   ],
   "source": [
    "!python /mnt/c/Users/ali/Desktop/Innovation_Hub_New/Full_Stack_Framework/Flower_Classification_Foundation_V1/watch_requirements.py"
   ]
  },
  {
   "cell_type": "code",
   "execution_count": null,
   "id": "a57af160",
   "metadata": {},
   "outputs": [],
   "source": []
  },
  {
   "cell_type": "code",
   "execution_count": null,
   "id": "65c0e8d8",
   "metadata": {},
   "outputs": [],
   "source": []
  }
 ],
 "metadata": {
  "kernelspec": {
   "display_name": "Python 3 (ipykernel)",
   "language": "python",
   "name": "python3"
  },
  "language_info": {
   "codemirror_mode": {
    "name": "ipython",
    "version": 3
   },
   "file_extension": ".py",
   "mimetype": "text/x-python",
   "name": "python",
   "nbconvert_exporter": "python",
   "pygments_lexer": "ipython3",
   "version": "3.12.3"
  }
 },
 "nbformat": 4,
 "nbformat_minor": 5
}
